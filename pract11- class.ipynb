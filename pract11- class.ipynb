{
 "cells": [
  {
   "cell_type": "markdown",
   "id": "bc18a876",
   "metadata": {},
   "source": [
    "### class"
   ]
  },
  {
   "cell_type": "code",
   "execution_count": null,
   "id": "375327f5",
   "metadata": {},
   "outputs": [],
   "source": [
    "class age:\n",
    "    x=21"
   ]
  },
  {
   "cell_type": "code",
   "execution_count": null,
   "id": "531c653a",
   "metadata": {},
   "outputs": [],
   "source": [
    "p1=age()\n",
    "print(p1.x)"
   ]
  },
  {
   "cell_type": "code",
   "execution_count": null,
   "id": "5390eae3",
   "metadata": {},
   "outputs": [],
   "source": [
    "class person:\n",
    "    def __init__(self,name,age):\n",
    "        self.name=name\n",
    "        self.age=age\n",
    "\n",
    "p1=person(\"swati\",21)\n",
    "print(p1.name)\n",
    "print(p1.age)\n",
    "\n",
    "p2=person(\"amit\",19)\n",
    "print(p2.name)\n",
    "print(p2.age)"
   ]
  },
  {
   "cell_type": "code",
   "execution_count": null,
   "id": "1efdd91c",
   "metadata": {},
   "outputs": [],
   "source": [
    "class employeeinfo():\n",
    "    def __init__(self,emp_name,emp_id,emp_progress):\n",
    "        self.emp_name=emp_name\n",
    "        self.emp_id=emp_id\n",
    "        self.emp_progress=emp_progress\n",
    "\n",
    "    def display_info(self):\n",
    "        return f\"{self.emp_name} {self.emp_id} {self.emp_progress}\"\n",
    "    \n",
    "        \n",
    "emp1=employeeinfo(\"swati\",1,\"good\")\n",
    "emp2=employeeinfo(\"sai\",2,\"good\")\n",
    "\n",
    "print(emp1.display_info())\n",
    "print(emp2.display_info())"
   ]
  },
  {
   "cell_type": "code",
   "execution_count": 8,
   "id": "ad64a4f2",
   "metadata": {},
   "outputs": [
    {
     "name": "stdout",
     "output_type": "stream",
     "text": [
      "enter employee name: swati\n",
      "enter employee id: 1\n",
      "enter progress: good\n",
      "swati\n",
      "1\n",
      "good\n"
     ]
    }
   ],
   "source": [
    "class employeeinfo():\n",
    "    def __init__(self,emp_name,emp_id,emp_progress):\n",
    "        self.emp_name=emp_name\n",
    "        self.emp_id=emp_id\n",
    "        self.emp_progress=emp_progress    \n",
    "        \n",
    "emp_name=input(\"enter employee name: \")\n",
    "emp_id=int(input(\"enter employee id: \"))\n",
    "emp_progress=input(\"enter progress: \")\n",
    "\n",
    "name=employeeinfo(emp_name,emp_id,emp_progress)\n",
    "print(name.emp_name )\n",
    "print(name.emp_id )\n",
    "print(name.emp_progress )"
   ]
  },
  {
   "cell_type": "code",
   "execution_count": 19,
   "id": "45119c0c",
   "metadata": {},
   "outputs": [
    {
     "name": "stdout",
     "output_type": "stream",
     "text": [
      "Enter the number of inputs: 2\n",
      "enter employee name: swati\n",
      "enter employee id: 1\n",
      "enter progress: good\n"
     ]
    },
    {
     "ename": "NameError",
     "evalue": "name 'emp' is not defined",
     "output_type": "error",
     "traceback": [
      "\u001b[1;31m---------------------------------------------------------------------------\u001b[0m",
      "\u001b[1;31mNameError\u001b[0m                                 Traceback (most recent call last)",
      "Cell \u001b[1;32mIn[19], line 16\u001b[0m\n\u001b[0;32m     14\u001b[0m     emp_names\u001b[38;5;241m.\u001b[39mappend(emp_name)\n\u001b[0;32m     15\u001b[0m     emp_ids\u001b[38;5;241m.\u001b[39mappend(emp_id)\n\u001b[1;32m---> 16\u001b[0m     emp_progresss\u001b[38;5;241m.\u001b[39mappend(emp\u001b[38;5;241m.\u001b[39mprogress)\n\u001b[0;32m     18\u001b[0m name\u001b[38;5;241m=\u001b[39memployeeinfo(emp_name,emp_id,emp_progress)\n\u001b[0;32m     19\u001b[0m \u001b[38;5;28mprint\u001b[39m(emp_names)\n",
      "\u001b[1;31mNameError\u001b[0m: name 'emp' is not defined"
     ]
    }
   ],
   "source": [
    "class employeeinfo():\n",
    "    def __init__(self,emp_name,emp_id,emp_progress):\n",
    "        self.emp_name=emp_name\n",
    "        self.emp_id=emp_id\n",
    "        self.emp_progress=emp_progress   \n",
    "emp_names=[]\n",
    "emp_ids=[]  \n",
    "emp_progresss=[]  \n",
    "num_inputs = int(input(\"Enter the number of inputs: \"))        \n",
    "for i in range(num_inputs):\n",
    "    emp_name=input(\"enter employee name: \")\n",
    "    emp_id=input(\"enter employee id: \")\n",
    "    emp_progress=input(\"enter progress: \")\n",
    "    emp_names.append(emp_name)\n",
    "    emp_ids.append(emp_id)\n",
    "    emp_progresss.append(emp.progress)\n",
    "\n",
    "name=employeeinfo(emp_name,emp_id,emp_progress)\n",
    "print(emp_names)\n",
    "print(emp_ids)\n",
    "print(emp_progresss)"
   ]
  },
  {
   "cell_type": "code",
   "execution_count": 20,
   "id": "fa658f5e",
   "metadata": {},
   "outputs": [
    {
     "ename": "SyntaxError",
     "evalue": "incomplete input (587809832.py, line 17)",
     "output_type": "error",
     "traceback": [
      "\u001b[1;36m  Cell \u001b[1;32mIn[20], line 17\u001b[1;36m\u001b[0m\n\u001b[1;33m    print(name.emp_progress\u001b[0m\n\u001b[1;37m                           ^\u001b[0m\n\u001b[1;31mSyntaxError\u001b[0m\u001b[1;31m:\u001b[0m incomplete input\n"
     ]
    }
   ],
   "source": [
    "class employeeinfo():\n",
    "    def __init__(self,emp_name,emp_id,emp_progress):\n",
    "        self.emp_name=emp_name\n",
    "        self.emp_id=emp_id\n",
    "        self.emp_progress=emp_progress   \n",
    "emp_names=[]\n",
    "emp_ids=[]  \n",
    "emp_progresss=[]  \n",
    "num_inputs = int(input(\"Enter the number of inputs: \"))        \n",
    "for i in range(num_inputs):\n",
    "    emp_name=input(\"enter employee name: \")\n",
    "    emp_id=input(\"enter employee id: \")\n",
    "    emp_progress=input(\"enter progress: \")\n",
    "    name=employeeinfo(emp_name,emp_id,emp_progress)\n",
    "    print(name.emp_name )\n",
    "    print(name.emp_id )\n",
    "    print(name.emp_progress"
   ]
  },
  {
   "cell_type": "code",
   "execution_count": null,
   "id": "0358dd7d",
   "metadata": {},
   "outputs": [],
   "source": [
    "a"
   ]
  },
  {
   "cell_type": "code",
   "execution_count": 17,
   "id": "0efbe8a7",
   "metadata": {},
   "outputs": [
    {
     "data": {
      "text/plain": [
       "[2, 2]"
      ]
     },
     "execution_count": 17,
     "metadata": {},
     "output_type": "execute_result"
    }
   ],
   "source": [
    "info"
   ]
  },
  {
   "cell_type": "code",
   "execution_count": null,
   "id": "5281ef49",
   "metadata": {},
   "outputs": [],
   "source": [
    "# base class\n",
    "class vehicle:\n",
    "    def __init__(self,make, model, year):\n",
    "        self.make=make\n",
    "        self.model=model\n",
    "        self.year=year\n",
    "        \n",
    "    def display_info(self):\n",
    "        return f\"{self.year},{self.model},{self.year}\"\n",
    "\n",
    "# derived class 1\n",
    "class Car(vehicle):\n",
    "    def __init__(self,make,model,year,num_door):\n",
    "        # call the constructor of base class\n",
    "        super().__init__(make, model, year)\n",
    "        self.num_door=num_door\n",
    "        \n",
    "    def display_info(self):\n",
    "        # override the display_info method\n",
    "        return f\"{super().display_info()}{self.num_door} -door car\"\n",
    "\n",
    "# derived class 2\n",
    "class Motorcycle(vehicle):\n",
    "    def __init__(self,make,model,year,num_wheels):\n",
    "        # call the constructor of base class\n",
    "        super().__init__(make, model, year)\n",
    "        self.num_wheels=num_wheels\n",
    "        \n",
    "    def display_info(self):\n",
    "        # override the display_info method\n",
    "        return f\"{super().display_info()}{self.num_wheels} -motorcycle wheels\"\n",
    "\n",
    "# creating instance\n",
    "car=Car(\"toyota\",\"carmy\",2022,4)\n",
    "motorcycle=Motorcycle(\"harley-davidson\",\"sportster\",2021,2)\n",
    "\n",
    "#\n",
    "print(car.display_info())\n",
    "print(motorcycle.display_info())"
   ]
  },
  {
   "cell_type": "code",
   "execution_count": 35,
   "id": "31c9c5d4",
   "metadata": {},
   "outputs": [
    {
     "name": "stdout",
     "output_type": "stream",
     "text": [
      "enter name of dog:sheru\n",
      "enter age of dog:3\n",
      "enter name of cat:mini\n",
      "enter age of cat:2\n",
      "sheru, 3 years old\n",
      "mini, 2 years old\n"
     ]
    }
   ],
   "source": [
    "class animal:\n",
    "    def __init__(self, name):\n",
    "        self.name = name\n",
    "    \n",
    "    def display_info(self):\n",
    "        return f\"{self.name}\"\n",
    "\n",
    "class dog(animal):\n",
    "    def __init__(self, name, age):\n",
    "        super().__init__(name)\n",
    "        self.age = age\n",
    "    \n",
    "    def display_info(self):\n",
    "        return f\"{super().display_info()}, {self.age} years old\"\n",
    "\n",
    "class cat(animal):\n",
    "    def __init__(self, name, age):\n",
    "        super().__init__(name)\n",
    "        self.age = age\n",
    "    \n",
    "    def display_info(self):\n",
    "        return f\"{super().display_info()}, {self.age} years old\"\n",
    "\n",
    "dog_name=input(\"enter name of dog:\")\n",
    "dog_age=input(\"enter age of dog:\")\n",
    "\n",
    "cat_name=input(\"enter name of cat:\")\n",
    "cat_age=input(\"enter age of cat:\")\n",
    "\n",
    "Dog=dog(dog_name,dog_age)\n",
    "Cat=cat(cat_name,cat_age)\n",
    "\n",
    "\n",
    "print(Dog.display_info())  # Call the display_info method on Dog instance\n",
    "print(Cat.display_info())  # Call the display_info method on Cat instance"
   ]
  },
  {
   "cell_type": "code",
   "execution_count": null,
   "id": "d5596d8e",
   "metadata": {},
   "outputs": [],
   "source": []
  }
 ],
 "metadata": {
  "kernelspec": {
   "display_name": "Python 3 (ipykernel)",
   "language": "python",
   "name": "python3"
  },
  "language_info": {
   "codemirror_mode": {
    "name": "ipython",
    "version": 3
   },
   "file_extension": ".py",
   "mimetype": "text/x-python",
   "name": "python",
   "nbconvert_exporter": "python",
   "pygments_lexer": "ipython3",
   "version": "3.11.5"
  }
 },
 "nbformat": 4,
 "nbformat_minor": 5
}
