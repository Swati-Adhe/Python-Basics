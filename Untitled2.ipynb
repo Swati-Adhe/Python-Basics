{
 "cells": [
  {
   "cell_type": "code",
   "execution_count": null,
   "id": "e99ccef6",
   "metadata": {},
   "outputs": [],
   "source": [
    "char=input(\"enter a character: \")\n",
    "if char in ('a','e','i','o','u','A','E','I','O','U'):\n",
    "    print(char,\"is a vowel\")\n",
    "else:\n",
    "    print(char,\"is a consonant\")"
   ]
  },
  {
   "cell_type": "code",
   "execution_count": 3,
   "id": "e7630b9b",
   "metadata": {},
   "outputs": [
    {
     "name": "stdout",
     "output_type": "stream",
     "text": [
      "enter a letter: t\n",
      "t is a consonant\n"
     ]
    }
   ],
   "source": [
    "char=input(\"enter a letter: \")\n",
    "vowel=['a','e','i','o','u']\n",
    "\n",
    "if char in vowel:\n",
    "    print(char,\"is a vowel\")\n",
    "else:\n",
    "    print(char,\"is a consonant\")"
   ]
  },
  {
   "cell_type": "code",
   "execution_count": null,
   "id": "66b85181",
   "metadata": {},
   "outputs": [],
   "source": []
  }
 ],
 "metadata": {
  "kernelspec": {
   "display_name": "Python 3 (ipykernel)",
   "language": "python",
   "name": "python3"
  },
  "language_info": {
   "codemirror_mode": {
    "name": "ipython",
    "version": 3
   },
   "file_extension": ".py",
   "mimetype": "text/x-python",
   "name": "python",
   "nbconvert_exporter": "python",
   "pygments_lexer": "ipython3",
   "version": "3.11.5"
  }
 },
 "nbformat": 4,
 "nbformat_minor": 5
}
