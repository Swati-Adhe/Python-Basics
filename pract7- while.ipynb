{
 "cells": [
  {
   "cell_type": "code",
   "execution_count": 1,
   "id": "296e6dbe",
   "metadata": {},
   "outputs": [
    {
     "name": "stdout",
     "output_type": "stream",
     "text": [
      "run lap: 0\n",
      "run lap: 1\n",
      "run lap: 2\n",
      "run lap: 3\n",
      "run lap: 4\n",
      "run lap: 5\n",
      "run lap: 6\n",
      "run lap: 7\n",
      "run lap: 8\n",
      "run lap: 9\n"
     ]
    }
   ],
   "source": [
    "laps=0\n",
    "\n",
    "while laps<10:\n",
    "    print(\"run lap:\",laps)\n",
    "    laps=laps+1"
   ]
  },
  {
   "cell_type": "code",
   "execution_count": 1,
   "id": "d6db72d0",
   "metadata": {},
   "outputs": [
    {
     "name": "stdout",
     "output_type": "stream",
     "text": [
      "enter the table you want: 5\n",
      "5 X 1 = 5\n",
      "5 X 2 = 10\n",
      "5 X 3 = 15\n",
      "5 X 4 = 20\n",
      "5 X 5 = 25\n",
      "5 X 6 = 30\n",
      "5 X 7 = 35\n",
      "5 X 8 = 40\n",
      "5 X 9 = 45\n",
      "5 X 10 = 50\n"
     ]
    }
   ],
   "source": [
    "num=int(input(\"enter the table you want: \"))\n",
    "i=1\n",
    "\n",
    "while i<=10:\n",
    "    print(num,\"X\",i,\"=\",num*i)\n",
    "    i=i+1"
   ]
  },
  {
   "cell_type": "code",
   "execution_count": 4,
   "id": "8274e906",
   "metadata": {},
   "outputs": [
    {
     "name": "stdout",
     "output_type": "stream",
     "text": [
      "hello world!\n",
      "hello world!\n",
      "hello world!\n",
      "hello world!\n",
      "hello world!\n"
     ]
    }
   ],
   "source": [
    "spam=1\n",
    "\n",
    "while spam<6:\n",
    "    print(\"hello world!\")\n",
    "    spam=spam+1"
   ]
  },
  {
   "cell_type": "code",
   "execution_count": 6,
   "id": "3faf5035",
   "metadata": {},
   "outputs": [
    {
     "name": "stdout",
     "output_type": "stream",
     "text": [
      "hello world\n",
      "hello world\n",
      "hello world\n",
      "hello world\n",
      "hello world\n",
      "hello world\n",
      "hello world\n",
      "hello world\n",
      "hello world\n",
      "hello world\n"
     ]
    }
   ],
   "source": [
    "count=10\n",
    "\n",
    "while count>0:\n",
    "    print(\"hello world\")\n",
    "    count= count-1"
   ]
  },
  {
   "cell_type": "code",
   "execution_count": 8,
   "id": "2f6303ed",
   "metadata": {},
   "outputs": [
    {
     "name": "stdout",
     "output_type": "stream",
     "text": [
      "welcome to the guessing game\n",
      "enter your no between 1 to 10: 8\n",
      "sorry, guess is not correct. try again\n",
      "enter your no between 1 to 10: 3\n",
      "sorry, guess is not correct. try again\n",
      "enter your no between 1 to 10: 5\n",
      "congratulation! guess is correct\n",
      "end of the game. Thanks for Playing\n"
     ]
    }
   ],
   "source": [
    "print(\"welcome to the guessing game\")\n",
    "num=5\n",
    "guess=\"\"\n",
    "\n",
    "while guess!=num:\n",
    "    guess=int(input(\"enter your no between 1 to 10: \"))\n",
    "    if guess==num:\n",
    "        print(\"congratulation! guess is correct\")\n",
    "    else:\n",
    "        print(\"sorry, guess is not correct. try again\")\n",
    "print(\"end of the game. Thanks for Playing\")"
   ]
  },
  {
   "cell_type": "markdown",
   "id": "383f5573",
   "metadata": {},
   "source": [
    "##### Break Statement"
   ]
  },
  {
   "cell_type": "code",
   "execution_count": 9,
   "id": "efe2805e",
   "metadata": {},
   "outputs": [
    {
     "name": "stdout",
     "output_type": "stream",
     "text": [
      "enter your name: sdfgh\n",
      "enter your name: mnbv\n",
      "enter your name: swati\n",
      "enter your name: Swati\n",
      "Thank you!\n"
     ]
    }
   ],
   "source": [
    "while True:\n",
    "    name=input(\"enter your name: \")\n",
    "    if name==\"Swati\":\n",
    "        break\n",
    "print(\"Thank you!\")\n",
    "    "
   ]
  },
  {
   "cell_type": "code",
   "execution_count": null,
   "id": "d0476a41",
   "metadata": {},
   "outputs": [],
   "source": []
  }
 ],
 "metadata": {
  "kernelspec": {
   "display_name": "Python 3 (ipykernel)",
   "language": "python",
   "name": "python3"
  },
  "language_info": {
   "codemirror_mode": {
    "name": "ipython",
    "version": 3
   },
   "file_extension": ".py",
   "mimetype": "text/x-python",
   "name": "python",
   "nbconvert_exporter": "python",
   "pygments_lexer": "ipython3",
   "version": "3.11.5"
  }
 },
 "nbformat": 4,
 "nbformat_minor": 5
}
