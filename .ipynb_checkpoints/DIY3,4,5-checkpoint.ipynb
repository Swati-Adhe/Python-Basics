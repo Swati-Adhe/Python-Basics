{
 "cells": [
  {
   "cell_type": "markdown",
   "id": "21c240ec",
   "metadata": {},
   "source": [
    "# DIY 3"
   ]
  },
  {
   "cell_type": "markdown",
   "id": "71f37cbc",
   "metadata": {},
   "source": [
    "##### Q1]"
   ]
  },
  {
   "cell_type": "code",
   "execution_count": 8,
   "id": "08742d20",
   "metadata": {},
   "outputs": [
    {
     "name": "stdout",
     "output_type": "stream",
     "text": [
      "Hello User, Please enter a character: r\n",
      "r is a consonant\n"
     ]
    }
   ],
   "source": [
    "char=input(\"Hello User, Please enter a character: \")\n",
    "if char==('a','e','i','o','u'):\n",
    "    print(char,\"is a vowel\")\n",
    "else:\n",
    "    print(char,\"is a consonant\")"
   ]
  },
  {
   "cell_type": "markdown",
   "id": "9f3dddc8",
   "metadata": {},
   "source": [
    "##### Q2]"
   ]
  },
  {
   "cell_type": "code",
   "execution_count": 25,
   "id": "375b8a93",
   "metadata": {},
   "outputs": [
    {
     "name": "stdout",
     "output_type": "stream",
     "text": [
      "please enter a number: 5\n",
      "The multiplication table (from 1 to 10) of 5\n",
      "5 X 1 = 5\n",
      "5 X 2 = 10\n",
      "5 X 3 = 15\n",
      "5 X 4 = 20\n",
      "5 X 5 = 25\n",
      "5 X 6 = 30\n",
      "5 X 7 = 35\n",
      "5 X 8 = 40\n",
      "5 X 9 = 45\n",
      "5 X 10 = 50\n"
     ]
    }
   ],
   "source": [
    "num=int(input(\"please enter a number: \"))\n",
    "print(\"The multiplication table (from 1 to 10) of\",num)\n",
    "i=1\n",
    "while i<=10:   \n",
    "    print(num,\"X\",i,\"=\",num*i)\n",
    "    i=i+1\n"
   ]
  },
  {
   "cell_type": "markdown",
   "id": "d82b9d35",
   "metadata": {},
   "source": [
    "# DIY 4"
   ]
  },
  {
   "cell_type": "markdown",
   "id": "c789d826",
   "metadata": {},
   "source": [
    "##### Q1]"
   ]
  },
  {
   "cell_type": "code",
   "execution_count": 33,
   "id": "5a1a9ff2",
   "metadata": {},
   "outputs": [
    {
     "name": "stdout",
     "output_type": "stream",
     "text": [
      "enter the dividend: 5\n",
      "enter the diviser: 2\n",
      "quotient: 2.5\n",
      "remainder: 1\n"
     ]
    }
   ],
   "source": [
    "a=int(input(\"enter the dividend: \"))\n",
    "b=int(input(\"enter the diviser: \"))\n",
    "q=a/b\n",
    "r=a%b\n",
    "print(\"quotient:\",q)\n",
    "print(\"remainder:\",r)"
   ]
  },
  {
   "cell_type": "markdown",
   "id": "65575a68",
   "metadata": {},
   "source": [
    "##### Q2]"
   ]
  },
  {
   "cell_type": "code",
   "execution_count": 31,
   "id": "b2125e55",
   "metadata": {},
   "outputs": [
    {
     "name": "stdout",
     "output_type": "stream",
     "text": [
      "enter the principle amount: 3456\n",
      "enter the time(number of year):456\n",
      "enter the interest rate:45\n",
      "the simple interest is: 709171.2\n"
     ]
    }
   ],
   "source": [
    "p=int(input(\"enter the principle amount: \"))\n",
    "t=int(input(\"enter the time(number of year):\"))\n",
    "r=int(input(\"enter the interest rate:\"))\n",
    "\n",
    "simple_interest=(p*r*t)/100\n",
    "print(\"the simple interest is:\",simple_interest)"
   ]
  },
  {
   "cell_type": "markdown",
   "id": "7132197b",
   "metadata": {},
   "source": [
    "# DIY 5"
   ]
  },
  {
   "cell_type": "markdown",
   "id": "82a1f863",
   "metadata": {},
   "source": [
    "##### Q1]"
   ]
  },
  {
   "cell_type": "code",
   "execution_count": 40,
   "id": "a3138086",
   "metadata": {},
   "outputs": [
    {
     "name": "stdout",
     "output_type": "stream",
     "text": [
      "what is your name?shubham\n",
      "Alright shubham welcome to your maths quize\n",
      "your quetion is 2*6 \n",
      "what is your answer:8\n",
      "incorrect. The correct answer is 12\n"
     ]
    }
   ],
   "source": [
    "name=input(\"what is your name?\")\n",
    "print(\"Alright\",name,\"welcome to your maths quize\")\n",
    "print(\"your quetion is 2*6 \")\n",
    "ans=(input(\"what is your answer:\"))\n",
    "if ans=='12':\n",
    "    print(\"correct\")\n",
    "else:\n",
    "    print(\"incorrect. The correct answer is 12\")"
   ]
  },
  {
   "cell_type": "markdown",
   "id": "c7914f24",
   "metadata": {},
   "source": [
    "##### Q2]"
   ]
  },
  {
   "cell_type": "code",
   "execution_count": null,
   "id": "0d0e539f",
   "metadata": {},
   "outputs": [],
   "source": []
  }
 ],
 "metadata": {
  "kernelspec": {
   "display_name": "Python 3 (ipykernel)",
   "language": "python",
   "name": "python3"
  },
  "language_info": {
   "codemirror_mode": {
    "name": "ipython",
    "version": 3
   },
   "file_extension": ".py",
   "mimetype": "text/x-python",
   "name": "python",
   "nbconvert_exporter": "python",
   "pygments_lexer": "ipython3",
   "version": "3.11.5"
  }
 },
 "nbformat": 4,
 "nbformat_minor": 5
}
