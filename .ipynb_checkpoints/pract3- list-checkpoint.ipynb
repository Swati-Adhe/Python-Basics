{
 "cells": [
  {
   "cell_type": "code",
   "execution_count": 2,
   "id": "93a386e3",
   "metadata": {},
   "outputs": [],
   "source": [
    "student_name=['Swati','Anjali','Trupti','Vaibhavi','ajay','shruti','Rahul']"
   ]
  },
  {
   "cell_type": "code",
   "execution_count": 2,
   "id": "45369565",
   "metadata": {},
   "outputs": [
    {
     "data": {
      "text/plain": [
       "'Vaibhavi'"
      ]
     },
     "execution_count": 2,
     "metadata": {},
     "output_type": "execute_result"
    }
   ],
   "source": [
    "student_name[3]   #indexing"
   ]
  },
  {
   "cell_type": "code",
   "execution_count": 4,
   "id": "d5e3942c",
   "metadata": {},
   "outputs": [
    {
     "data": {
      "text/plain": [
       "['Anjali', 'Trupti', 'Vaibhavi', 'ajay']"
      ]
     },
     "execution_count": 4,
     "metadata": {},
     "output_type": "execute_result"
    }
   ],
   "source": [
    "student_name[1:5]  #slicing"
   ]
  },
  {
   "cell_type": "code",
   "execution_count": 5,
   "id": "42b8d536",
   "metadata": {},
   "outputs": [
    {
     "data": {
      "text/plain": [
       "['Vaibhavi', 'ajay']"
      ]
     },
     "execution_count": 5,
     "metadata": {},
     "output_type": "execute_result"
    }
   ],
   "source": [
    "student_name[-4:-2]"
   ]
  },
  {
   "cell_type": "code",
   "execution_count": 9,
   "id": "ae410c9d",
   "metadata": {},
   "outputs": [
    {
     "data": {
      "text/plain": [
       "['Anjali', 'Trupti', 'Vaibhavi']"
      ]
     },
     "execution_count": 9,
     "metadata": {},
     "output_type": "execute_result"
    }
   ],
   "source": [
    "student_name[-6:4]"
   ]
  },
  {
   "cell_type": "code",
   "execution_count": 13,
   "id": "c337474f",
   "metadata": {},
   "outputs": [
    {
     "data": {
      "text/plain": [
       "['Swati', 'Trupti', 'ajay', 'Rahul']"
      ]
     },
     "execution_count": 13,
     "metadata": {},
     "output_type": "execute_result"
    }
   ],
   "source": [
    "student_name[0:7:2]    #slicing with steps"
   ]
  },
  {
   "cell_type": "code",
   "execution_count": 14,
   "id": "a8ebb0dc",
   "metadata": {},
   "outputs": [],
   "source": [
    "student_name.sort()       #sorting"
   ]
  },
  {
   "cell_type": "code",
   "execution_count": 15,
   "id": "0a3ac5b3",
   "metadata": {},
   "outputs": [
    {
     "data": {
      "text/plain": [
       "['Anjali', 'Rahul', 'Swati', 'Trupti', 'Vaibhavi', 'ajay', 'shruti']"
      ]
     },
     "execution_count": 15,
     "metadata": {},
     "output_type": "execute_result"
    }
   ],
   "source": [
    "student_name"
   ]
  },
  {
   "cell_type": "code",
   "execution_count": 44,
   "id": "c2043ba1",
   "metadata": {},
   "outputs": [],
   "source": [
    "student_marks=[78,89,68,93,57,34,54,44]"
   ]
  },
  {
   "cell_type": "code",
   "execution_count": 18,
   "id": "f452f264",
   "metadata": {},
   "outputs": [
    {
     "data": {
      "text/plain": [
       "57"
      ]
     },
     "execution_count": 18,
     "metadata": {},
     "output_type": "execute_result"
    }
   ],
   "source": [
    "student_marks[4]"
   ]
  },
  {
   "cell_type": "code",
   "execution_count": 21,
   "id": "16fe815e",
   "metadata": {},
   "outputs": [
    {
     "data": {
      "text/plain": [
       "[68, 93, 57]"
      ]
     },
     "execution_count": 21,
     "metadata": {},
     "output_type": "execute_result"
    }
   ],
   "source": [
    "student_marks[2:5]"
   ]
  },
  {
   "cell_type": "code",
   "execution_count": 24,
   "id": "bfff1b9d",
   "metadata": {},
   "outputs": [
    {
     "data": {
      "text/plain": [
       "[93, 57]"
      ]
     },
     "execution_count": 24,
     "metadata": {},
     "output_type": "execute_result"
    }
   ],
   "source": [
    "student_marks[-5:5]"
   ]
  },
  {
   "cell_type": "code",
   "execution_count": 25,
   "id": "6cdd7648",
   "metadata": {},
   "outputs": [
    {
     "data": {
      "text/plain": [
       "[89, 93]"
      ]
     },
     "execution_count": 25,
     "metadata": {},
     "output_type": "execute_result"
    }
   ],
   "source": [
    "student_marks[1:4:2]"
   ]
  },
  {
   "cell_type": "code",
   "execution_count": 50,
   "id": "42562b8b",
   "metadata": {},
   "outputs": [],
   "source": [
    "student_marks.sort()"
   ]
  },
  {
   "cell_type": "code",
   "execution_count": 46,
   "id": "25f535fc",
   "metadata": {},
   "outputs": [
    {
     "data": {
      "text/plain": [
       "[78, 89, 68, 93, 57, 34, 54, 44]"
      ]
     },
     "execution_count": 46,
     "metadata": {},
     "output_type": "execute_result"
    }
   ],
   "source": [
    "student_marks"
   ]
  },
  {
   "cell_type": "code",
   "execution_count": 48,
   "id": "0627340b",
   "metadata": {},
   "outputs": [],
   "source": [
    "student_marks.(reverse=True)"
   ]
  },
  {
   "cell_type": "code",
   "execution_count": 49,
   "id": "bd82f811",
   "metadata": {},
   "outputs": [
    {
     "data": {
      "text/plain": [
       "[93, 89, 78, 68, 57, 54, 44, 34]"
      ]
     },
     "execution_count": 49,
     "metadata": {},
     "output_type": "execute_result"
    }
   ],
   "source": [
    "student_marks"
   ]
  },
  {
   "cell_type": "markdown",
   "id": "352e4435",
   "metadata": {},
   "source": [
    "H.W"
   ]
  },
  {
   "cell_type": "code",
   "execution_count": 31,
   "id": "b588027e",
   "metadata": {},
   "outputs": [
    {
     "data": {
      "text/plain": [
       "['Swati', 'Anjali', 'Trupti', 'Vaibhavi', 'ajay', 'shruti', 'Rahul']"
      ]
     },
     "execution_count": 31,
     "metadata": {},
     "output_type": "execute_result"
    }
   ],
   "source": [
    "student_name"
   ]
  },
  {
   "cell_type": "code",
   "execution_count": 4,
   "id": "e96d3310",
   "metadata": {
    "scrolled": true
   },
   "outputs": [
    {
     "data": {
      "text/plain": [
       "['Rahul', 'shruti', 'ajay', 'Vaibhavi', 'Trupti', 'Anjali', 'Swati']"
      ]
     },
     "execution_count": 4,
     "metadata": {},
     "output_type": "execute_result"
    }
   ],
   "source": [
    "student_name[::-1]"
   ]
  },
  {
   "cell_type": "code",
   "execution_count": 5,
   "id": "773f3010",
   "metadata": {
    "scrolled": true
   },
   "outputs": [
    {
     "data": {
      "text/plain": [
       "['Rahul', 'ajay', 'Trupti', 'Swati']"
      ]
     },
     "execution_count": 5,
     "metadata": {},
     "output_type": "execute_result"
    }
   ],
   "source": [
    "student_name[::-2]"
   ]
  },
  {
   "cell_type": "code",
   "execution_count": 6,
   "id": "27318513",
   "metadata": {},
   "outputs": [
    {
     "data": {
      "text/plain": [
       "['Rahul', 'Vaibhavi', 'Swati']"
      ]
     },
     "execution_count": 6,
     "metadata": {},
     "output_type": "execute_result"
    }
   ],
   "source": [
    "student_name[::-3]"
   ]
  },
  {
   "cell_type": "code",
   "execution_count": 7,
   "id": "d66c4929",
   "metadata": {},
   "outputs": [
    {
     "data": {
      "text/plain": [
       "['Rahul', 'Trupti']"
      ]
     },
     "execution_count": 7,
     "metadata": {},
     "output_type": "execute_result"
    }
   ],
   "source": [
    "student_name[::-4]"
   ]
  },
  {
   "cell_type": "code",
   "execution_count": 8,
   "id": "7c7fcf8c",
   "metadata": {},
   "outputs": [
    {
     "data": {
      "text/plain": [
       "['Rahul', 'Anjali']"
      ]
     },
     "execution_count": 8,
     "metadata": {},
     "output_type": "execute_result"
    }
   ],
   "source": [
    "student_name[::-5]"
   ]
  },
  {
   "cell_type": "code",
   "execution_count": 9,
   "id": "3b77111b",
   "metadata": {},
   "outputs": [
    {
     "data": {
      "text/plain": [
       "['Rahul', 'Swati']"
      ]
     },
     "execution_count": 9,
     "metadata": {},
     "output_type": "execute_result"
    }
   ],
   "source": [
    "student_name[::-6]"
   ]
  },
  {
   "cell_type": "code",
   "execution_count": 10,
   "id": "93ef01a9",
   "metadata": {},
   "outputs": [
    {
     "data": {
      "text/plain": [
       "['Rahul']"
      ]
     },
     "execution_count": 10,
     "metadata": {},
     "output_type": "execute_result"
    }
   ],
   "source": [
    "student_name[::-7]"
   ]
  },
  {
   "cell_type": "code",
   "execution_count": 11,
   "id": "1607b4b3",
   "metadata": {},
   "outputs": [
    {
     "data": {
      "text/plain": [
       "['Rahul']"
      ]
     },
     "execution_count": 11,
     "metadata": {},
     "output_type": "execute_result"
    }
   ],
   "source": [
    "student_name[::-8]"
   ]
  },
  {
   "cell_type": "code",
   "execution_count": 12,
   "id": "9b62626c",
   "metadata": {},
   "outputs": [
    {
     "data": {
      "text/plain": [
       "['Anjali', 'Swati']"
      ]
     },
     "execution_count": 12,
     "metadata": {},
     "output_type": "execute_result"
    }
   ],
   "source": [
    "student_name[1::-1]"
   ]
  },
  {
   "cell_type": "code",
   "execution_count": 14,
   "id": "a7074257",
   "metadata": {},
   "outputs": [
    {
     "data": {
      "text/plain": [
       "['shruti']"
      ]
     },
     "execution_count": 14,
     "metadata": {},
     "output_type": "execute_result"
    }
   ],
   "source": [
    "student_name[5:6:]"
   ]
  },
  {
   "cell_type": "code",
   "execution_count": 15,
   "id": "e5da4265",
   "metadata": {},
   "outputs": [
    {
     "data": {
      "text/plain": [
       "['Swati', 'Anjali', 'Trupti', 'Vaibhavi', 'ajay', 'shruti', 'Rahul']"
      ]
     },
     "execution_count": 15,
     "metadata": {},
     "output_type": "execute_result"
    }
   ],
   "source": [
    "student_name[::1]"
   ]
  },
  {
   "cell_type": "code",
   "execution_count": 20,
   "id": "55930839",
   "metadata": {},
   "outputs": [
    {
     "data": {
      "text/plain": [
       "['Anjali', 'Trupti']"
      ]
     },
     "execution_count": 20,
     "metadata": {},
     "output_type": "execute_result"
    }
   ],
   "source": [
    "student_name[-6:-4:]"
   ]
  },
  {
   "cell_type": "code",
   "execution_count": 22,
   "id": "1151dc95",
   "metadata": {},
   "outputs": [
    {
     "data": {
      "text/plain": [
       "['Anjali', 'ajay']"
      ]
     },
     "execution_count": 22,
     "metadata": {},
     "output_type": "execute_result"
    }
   ],
   "source": [
    "student_name[1:5:3]"
   ]
  },
  {
   "cell_type": "code",
   "execution_count": 23,
   "id": "efc441d3",
   "metadata": {},
   "outputs": [
    {
     "data": {
      "text/plain": [
       "['Swati', 'shruti']"
      ]
     },
     "execution_count": 23,
     "metadata": {},
     "output_type": "execute_result"
    }
   ],
   "source": [
    "student_name[::5]"
   ]
  },
  {
   "cell_type": "code",
   "execution_count": 24,
   "id": "ec466413",
   "metadata": {},
   "outputs": [
    {
     "data": {
      "text/plain": [
       "['Swati', 'shruti']"
      ]
     },
     "execution_count": 24,
     "metadata": {},
     "output_type": "execute_result"
    }
   ],
   "source": [
    "student_name[-7:-1:5]"
   ]
  },
  {
   "cell_type": "code",
   "execution_count": 25,
   "id": "a0b64c39",
   "metadata": {},
   "outputs": [
    {
     "data": {
      "text/plain": [
       "['Trupti', 'Rahul']"
      ]
     },
     "execution_count": 25,
     "metadata": {},
     "output_type": "execute_result"
    }
   ],
   "source": [
    "student_name[2:7:4]"
   ]
  },
  {
   "cell_type": "code",
   "execution_count": 42,
   "id": "8e5a80b1",
   "metadata": {},
   "outputs": [
    {
     "data": {
      "text/plain": [
       "['Rahul', 'Swati']"
      ]
     },
     "execution_count": 42,
     "metadata": {},
     "output_type": "execute_result"
    }
   ],
   "source": [
    "student_name[-1:-8:-6]"
   ]
  },
  {
   "cell_type": "code",
   "execution_count": 43,
   "id": "01a31596",
   "metadata": {},
   "outputs": [
    {
     "data": {
      "text/plain": [
       "['Swati', 'Trupti', 'ajay']"
      ]
     },
     "execution_count": 43,
     "metadata": {},
     "output_type": "execute_result"
    }
   ],
   "source": [
    "student_name[:5:2]"
   ]
  },
  {
   "cell_type": "code",
   "execution_count": 45,
   "id": "6070649f",
   "metadata": {},
   "outputs": [
    {
     "data": {
      "text/plain": [
       "['Vaibhavi', 'Anjali']"
      ]
     },
     "execution_count": 45,
     "metadata": {},
     "output_type": "execute_result"
    }
   ],
   "source": [
    "student_name[3::-2]"
   ]
  },
  {
   "cell_type": "code",
   "execution_count": 47,
   "id": "75a8a7dc",
   "metadata": {},
   "outputs": [
    {
     "data": {
      "text/plain": [
       "['ajay', 'Vaibhavi', 'Trupti', 'Anjali']"
      ]
     },
     "execution_count": 47,
     "metadata": {},
     "output_type": "execute_result"
    }
   ],
   "source": [
    "student_name[-3:-7:-1]"
   ]
  },
  {
   "cell_type": "code",
   "execution_count": null,
   "id": "d7d77e2f",
   "metadata": {},
   "outputs": [],
   "source": []
  }
 ],
 "metadata": {
  "kernelspec": {
   "display_name": "Python 3 (ipykernel)",
   "language": "python",
   "name": "python3"
  },
  "language_info": {
   "codemirror_mode": {
    "name": "ipython",
    "version": 3
   },
   "file_extension": ".py",
   "mimetype": "text/x-python",
   "name": "python",
   "nbconvert_exporter": "python",
   "pygments_lexer": "ipython3",
   "version": "3.11.5"
  }
 },
 "nbformat": 4,
 "nbformat_minor": 5
}
