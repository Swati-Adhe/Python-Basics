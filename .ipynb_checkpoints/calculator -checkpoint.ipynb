{
 "cells": [
  {
   "cell_type": "code",
   "execution_count": 4,
   "id": "2dd4e48a",
   "metadata": {},
   "outputs": [
    {
     "name": "stdout",
     "output_type": "stream",
     "text": [
      "Simple Calculator\n",
      "-----------------\n",
      "1. Addition\n",
      "2. Subtraction\n",
      "3. Multiplication\n",
      "4. Division\n",
      "Enter your choice (1/2/3/4): 3\n",
      "Enter the first number: 4\n",
      "Enter the second number: 2\n",
      "result:  8\n",
      "do yo want to continue (yes/no): yes\n",
      "Enter your choice (1/2/3/4): 2\n",
      "Enter the first number: 5\n",
      "Enter the second number: 3\n",
      "result:  2\n",
      "do yo want to continue (yes/no): no\n"
     ]
    }
   ],
   "source": [
    "print(\"Simple Calculator\\n-----------------\\n1. Addition\\n2. Subtraction\\n3. Multiplication\\n4. Division\")\n",
    "\n",
    "while True:\n",
    "    choice = int(input(\"Enter your choice (1/2/3/4): \"))\n",
    "    \n",
    "    if choice in (1,2,3,4):\n",
    "        num1 = int(input(\"Enter the first number: \"))\n",
    "        num2 = int(input(\"Enter the second number: \"))    \n",
    "        \n",
    "        if choice == 1:\n",
    "            print(\"result: \", num1+num2)\n",
    "        elif choice == 2:\n",
    "            print(\"result: \",num1-num2)\n",
    "        elif choice == 3:\n",
    "            print(\"result: \", num1*num2)\n",
    "        elif choice == 4:\n",
    "            print(\"result: \", num1/num2)\n",
    "    else:\n",
    "        print(\"invalid choice\")\n",
    "            \n",
    "    repeat=(input(\"do yo want to continue (yes/no): \"))\n",
    "    if repeat.lower()!='yes':\n",
    "                     break"
   ]
  },
  {
   "cell_type": "code",
   "execution_count": 3,
   "id": "f3d93ee9",
   "metadata": {},
   "outputs": [
    {
     "name": "stdout",
     "output_type": "stream",
     "text": [
      "Simple Calculator\n",
      "-----------------\n",
      "1. Addition\n",
      "2. Subtraction\n",
      "3. Multiplication\n",
      "4. Division\n",
      "Enter your choice (1/2/3/4): 1\n",
      "Enter the first number: 2\n",
      "Enter the second number: 3\n",
      "result:  5\n",
      "do yo want to continue (yes/no): yes\n",
      "Enter your choice (1/2/3/4): 2\n",
      "Enter the first number: 2\n",
      "Enter the second number: 3\n",
      "result:  -1\n",
      "do yo want to continue (yes/no): no\n"
     ]
    }
   ],
   "source": [
    "def addition (x,y):\n",
    "    return x+y\n",
    "def subtraction (x,y):\n",
    "    return x-y\n",
    "def multiplication (x,y):\n",
    "    return x*y\n",
    "def division (x,y):\n",
    "    if y==0:\n",
    "        return \"division by zero is not allowed\"\n",
    "    return x/y\n",
    "\n",
    "print(\"Simple Calculator\\n-----------------\\n1. Addition\\n2. Subtraction\\n3. Multiplication\\n4. Division\")\n",
    "\n",
    "while True:\n",
    "    choice = int(input(\"Enter your choice (1/2/3/4): \"))\n",
    "    \n",
    "    if choice in (1,2,3,4):\n",
    "        num1 = int(input(\"Enter the first number: \"))\n",
    "        num2 = int(input(\"Enter the second number: \"))    \n",
    "        \n",
    "        if choice == 1:\n",
    "            print(\"result: \", addition(num1, num2))\n",
    "        elif choice == 2:\n",
    "            print(\"result: \", subtraction(num1, num2))\n",
    "        elif choice == 3:\n",
    "            print(\"result: \", multiplication(num1, num2))\n",
    "        elif choice == 4:\n",
    "            print(\"result: \", division(num1, num2))\n",
    "    else:\n",
    "        print(\"invalid choice\")\n",
    "            \n",
    "    repeat=(input(\"do yo want to continue (yes/no): \"))\n",
    "    if repeat.lower()!='yes':\n",
    "                     break"
   ]
  },
  {
   "cell_type": "code",
   "execution_count": null,
   "id": "82cff572",
   "metadata": {},
   "outputs": [],
   "source": []
  }
 ],
 "metadata": {
  "kernelspec": {
   "display_name": "Python 3 (ipykernel)",
   "language": "python",
   "name": "python3"
  },
  "language_info": {
   "codemirror_mode": {
    "name": "ipython",
    "version": 3
   },
   "file_extension": ".py",
   "mimetype": "text/x-python",
   "name": "python",
   "nbconvert_exporter": "python",
   "pygments_lexer": "ipython3",
   "version": "3.11.5"
  }
 },
 "nbformat": 4,
 "nbformat_minor": 5
}
