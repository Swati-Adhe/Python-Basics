{
 "cells": [
  {
   "cell_type": "markdown",
   "id": "97bebfeb",
   "metadata": {},
   "source": [
    "### For String"
   ]
  },
  {
   "cell_type": "code",
   "execution_count": 3,
   "id": "d154962a",
   "metadata": {},
   "outputs": [
    {
     "name": "stdout",
     "output_type": "stream",
     "text": [
      "Palindrome Checker\n",
      "enter your string: nitin\n",
      "is Palindrome\n"
     ]
    }
   ],
   "source": [
    "print(\"Palindrome Checker\")\n",
    "user_input=input(\"enter your string: \")\n",
    "if user_input==user_input[::-1]:\n",
    "    print(\"is Palindrome\")\n",
    "else:\n",
    "    print(\"not a Palindrome\")"
   ]
  },
  {
   "cell_type": "code",
   "execution_count": 4,
   "id": "06e2f8cf",
   "metadata": {},
   "outputs": [
    {
     "name": "stdout",
     "output_type": "stream",
     "text": [
      "Palindrome Checker\n",
      "enter your string: nitin\n",
      "is Palindrome\n",
      "Do you want to check another string? (yes/no): yes\n",
      "enter your string: swati\n",
      "not a Palindrome\n",
      "Do you want to check another string? (yes/no): no\n"
     ]
    }
   ],
   "source": [
    "print(\"Palindrome Checker\")\n",
    "while True:\n",
    "    user_input=input(\"enter your string: \")\n",
    "    if user_input==user_input[::-1]:\n",
    "        print(\"is Palindrome\")\n",
    "    else:\n",
    "        print(\"not a Palindrome\")\n",
    "    repeat = input(\"Do you want to check another string? (yes/no): \")\n",
    "    if repeat.lower()!='yes':\n",
    "                     break"
   ]
  },
  {
   "cell_type": "markdown",
   "id": "99855e4f",
   "metadata": {},
   "source": [
    "### For Numbers"
   ]
  },
  {
   "cell_type": "code",
   "execution_count": 5,
   "id": "f14bfad3",
   "metadata": {},
   "outputs": [
    {
     "name": "stdout",
     "output_type": "stream",
     "text": [
      "Palindrome Checker\n",
      "enter your number: 1221\n",
      "is Palindrome\n"
     ]
    }
   ],
   "source": [
    "print(\"Palindrome Checker\")\n",
    "user_input=(input(\"enter your number: \"))\n",
    "if user_input.isdigit():\n",
    "    \n",
    "    if user_input==user_input[::-1]:\n",
    "        print(\"is Palindrome\")\n",
    "    else:\n",
    "        print(\"not a Palindrome\")"
   ]
  },
  {
   "cell_type": "code",
   "execution_count": 6,
   "id": "65b632c5",
   "metadata": {},
   "outputs": [
    {
     "name": "stdout",
     "output_type": "stream",
     "text": [
      "Palindrome Checker\n",
      "enter your number: 1221\n",
      "is Palindrome\n",
      "Do you want to check another number? (yes/no): yes\n",
      "enter your number: 3475\n",
      "not a Palindrome\n",
      "Do you want to check another number? (yes/no): no\n"
     ]
    }
   ],
   "source": [
    "print(\"Palindrome Checker\")\n",
    "while True:\n",
    "    user_input=(input(\"enter your number: \"))\n",
    "    if user_input.isdigit():\n",
    "        if user_input==user_input[::-1]:\n",
    "            print(\"is Palindrome\")\n",
    "        else:\n",
    "            print(\"not a Palindrome\")\n",
    "    repeat = input(\"Do you want to check another number? (yes/no): \")\n",
    "    if repeat.lower()!='yes':\n",
    "                     break"
   ]
  },
  {
   "cell_type": "code",
   "execution_count": null,
   "id": "5369f51f",
   "metadata": {},
   "outputs": [],
   "source": []
  }
 ],
 "metadata": {
  "kernelspec": {
   "display_name": "Python 3 (ipykernel)",
   "language": "python",
   "name": "python3"
  },
  "language_info": {
   "codemirror_mode": {
    "name": "ipython",
    "version": 3
   },
   "file_extension": ".py",
   "mimetype": "text/x-python",
   "name": "python",
   "nbconvert_exporter": "python",
   "pygments_lexer": "ipython3",
   "version": "3.11.5"
  }
 },
 "nbformat": 4,
 "nbformat_minor": 5
}
