{
 "cells": [
  {
   "cell_type": "code",
   "execution_count": 1,
   "id": "050c63ea",
   "metadata": {},
   "outputs": [
    {
     "name": "stdout",
     "output_type": "stream",
     "text": [
      "enter single, double or triple digit number: 45\n"
     ]
    }
   ],
   "source": [
    "num1=int(input(\"enter single, double or triple digit number: \"))"
   ]
  },
  {
   "cell_type": "code",
   "execution_count": 3,
   "id": "190d0c9e",
   "metadata": {},
   "outputs": [
    {
     "name": "stdout",
     "output_type": "stream",
     "text": [
      "enter single, double or triple digit number: 45\n",
      "double digit no\n"
     ]
    }
   ],
   "source": [
    "if 9<num1<=99:\n",
    "    print(\"double digit no\")\n",
    "elif 99<num1<=999:\n",
    "    print(\"triple digit no\")\n",
    "else:\n",
    "    print(\"single digit no\")"
   ]
  },
  {
   "cell_type": "code",
   "execution_count": 4,
   "id": "09eddad1",
   "metadata": {},
   "outputs": [
    {
     "name": "stdout",
     "output_type": "stream",
     "text": [
      "enter single, double or triple digit number: 65\n",
      "double digit no\n"
     ]
    }
   ],
   "source": [
    "num1=int(input(\"enter single, double or triple digit number: \"))\n",
    "\n",
    "if 9<num1<=99:\n",
    "    print(\"double digit no\")\n",
    "elif 99<num1<=999:\n",
    "    print(\"triple digit no\")\n",
    "else:\n",
    "    print(\"single digit no\")"
   ]
  },
  {
   "cell_type": "code",
   "execution_count": 2,
   "id": "4fcb8755",
   "metadata": {},
   "outputs": [
    {
     "name": "stdout",
     "output_type": "stream",
     "text": [
      "enter wheather:sunny\n",
      "ice-cream\n"
     ]
    }
   ],
   "source": [
    "i=input(\"enter wheather:\")\n",
    "if i==\"cloudy\":\n",
    "    print(\"bhaji\")\n",
    "elif i==\"sunny\":\n",
    "    print(\"ice-cream\")\n",
    "else:\n",
    "    print(\"coffee\")"
   ]
  },
  {
   "cell_type": "code",
   "execution_count": null,
   "id": "b1e26c91",
   "metadata": {},
   "outputs": [],
   "source": []
  }
 ],
 "metadata": {
  "kernelspec": {
   "display_name": "Python 3 (ipykernel)",
   "language": "python",
   "name": "python3"
  },
  "language_info": {
   "codemirror_mode": {
    "name": "ipython",
    "version": 3
   },
   "file_extension": ".py",
   "mimetype": "text/x-python",
   "name": "python",
   "nbconvert_exporter": "python",
   "pygments_lexer": "ipython3",
   "version": "3.11.5"
  }
 },
 "nbformat": 4,
 "nbformat_minor": 5
}
