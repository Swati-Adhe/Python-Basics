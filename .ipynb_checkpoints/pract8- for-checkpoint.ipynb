{
 "cells": [
  {
   "cell_type": "code",
   "execution_count": 3,
   "id": "ec9d1b1c",
   "metadata": {},
   "outputs": [
    {
     "name": "stdout",
     "output_type": "stream",
     "text": [
      "s\n",
      "w\n",
      "a\n",
      "t\n",
      "i\n",
      "end of loop\n"
     ]
    }
   ],
   "source": [
    "name=\"swati\"\n",
    "\n",
    "for i in name:\n",
    "    print(i)\n",
    "else:\n",
    "    print(\"end of loop\")"
   ]
  },
  {
   "cell_type": "code",
   "execution_count": 4,
   "id": "bb20d0d8",
   "metadata": {},
   "outputs": [
    {
     "name": "stdout",
     "output_type": "stream",
     "text": [
      "Swati\n",
      "Anjali\n",
      "Trupti\n",
      "Vaibhavi\n",
      "ajay\n",
      "shruti\n",
      "Rahul\n"
     ]
    }
   ],
   "source": [
    "stud=['Swati','Anjali','Trupti','Vaibhavi','ajay','shruti','Rahul']\n",
    "\n",
    "for i in stud:\n",
    "    print(i)\n",
    "    "
   ]
  },
  {
   "cell_type": "code",
   "execution_count": 5,
   "id": "5478f3f1",
   "metadata": {},
   "outputs": [
    {
     "name": "stdout",
     "output_type": "stream",
     "text": [
      "0\n",
      "1\n",
      "2\n",
      "3\n"
     ]
    }
   ],
   "source": [
    "for num in range(6):\n",
    "    if num==4:\n",
    "        break\n",
    "    print(num)"
   ]
  },
  {
   "cell_type": "code",
   "execution_count": 6,
   "id": "2b47689a",
   "metadata": {},
   "outputs": [
    {
     "name": "stdout",
     "output_type": "stream",
     "text": [
      "0\n",
      "1\n",
      "2\n",
      "3\n",
      "5\n"
     ]
    }
   ],
   "source": [
    "for num in range(6):\n",
    "    if num==4:\n",
    "        continue\n",
    "    print(num)"
   ]
  },
  {
   "cell_type": "code",
   "execution_count": 7,
   "id": "9dc6ea4c",
   "metadata": {},
   "outputs": [],
   "source": [
    "for num in range(6):\n",
    "    if num<=4:\n",
    "        pass"
   ]
  },
  {
   "cell_type": "code",
   "execution_count": 8,
   "id": "84edbcae",
   "metadata": {},
   "outputs": [
    {
     "name": "stdout",
     "output_type": "stream",
     "text": [
      "0\n",
      "1\n",
      "2\n",
      "3\n",
      "4\n"
     ]
    }
   ],
   "source": [
    "for num in range(6):\n",
    "    if num<=4:\n",
    "        print(num)"
   ]
  },
  {
   "cell_type": "code",
   "execution_count": 8,
   "id": "bec34e54",
   "metadata": {},
   "outputs": [
    {
     "name": "stdout",
     "output_type": "stream",
     "text": [
      "short name fruit: ['apple', 'banana', 'orange', 'kiwi']\n",
      "short name fruit: ['apple', 'banana', 'orange', 'kiwi']\n",
      "short name fruit: ['apple', 'banana', 'orange', 'kiwi']\n",
      "short name fruit: ['apple', 'banana', 'orange', 'kiwi']\n"
     ]
    }
   ],
   "source": [
    "fruit=['apple','banana','orange','kiwi']\n",
    "\n",
    "for i in fruit:\n",
    "    if len(fruit)<5:\n",
    "        print(\"short name fruit:\",fruit)"
   ]
  },
  {
   "cell_type": "code",
   "execution_count": 10,
   "id": "85ac69b2",
   "metadata": {},
   "outputs": [
    {
     "name": "stdout",
     "output_type": "stream",
     "text": [
      "0,2,4,6,8,"
     ]
    }
   ],
   "source": [
    "for i in range(0,10,2):\n",
    "    print(i,end=\",\")"
   ]
  },
  {
   "cell_type": "markdown",
   "id": "b7aad1f8",
   "metadata": {},
   "source": [
    "##### even and odd numbers:"
   ]
  },
  {
   "cell_type": "code",
   "execution_count": 17,
   "id": "5e565201",
   "metadata": {},
   "outputs": [
    {
     "name": "stdout",
     "output_type": "stream",
     "text": [
      "2,4,6,8,10,12,14,16,18,20,"
     ]
    }
   ],
   "source": [
    "for i in range(2,21,2):\n",
    "    print(i,end=\",\")"
   ]
  },
  {
   "cell_type": "code",
   "execution_count": 18,
   "id": "1f70a835",
   "metadata": {},
   "outputs": [
    {
     "name": "stdout",
     "output_type": "stream",
     "text": [
      "1,3,5,7,9,11,13,15,17,19,"
     ]
    }
   ],
   "source": [
    "for i in range(1,21,2):\n",
    "    print(i,end=\",\")"
   ]
  },
  {
   "cell_type": "markdown",
   "id": "3994b31d",
   "metadata": {},
   "source": [
    "# Patterns:"
   ]
  },
  {
   "cell_type": "code",
   "execution_count": 11,
   "id": "dcc30b99",
   "metadata": {},
   "outputs": [
    {
     "name": "stdout",
     "output_type": "stream",
     "text": [
      "* * * * * \n",
      "* * * * * \n",
      "* * * * * \n",
      "* * * * * \n",
      "* * * * * \n"
     ]
    }
   ],
   "source": [
    "#square pattern\n",
    "\n",
    "size=5\n",
    "\n",
    "for i in range(size):\n",
    "    for j in range(size):\n",
    "        print(\"*\", end=\" \")\n",
    "    print()"
   ]
  },
  {
   "cell_type": "code",
   "execution_count": 13,
   "id": "2fc5d4e9",
   "metadata": {},
   "outputs": [
    {
     "name": "stdout",
     "output_type": "stream",
     "text": [
      "* \n",
      "* * \n",
      "* * * \n",
      "* * * * \n",
      "* * * * * \n"
     ]
    }
   ],
   "source": [
    "#triangel pattern\n",
    "\n",
    "size=5\n",
    "\n",
    "for i in range(size):\n",
    "    for j in range(i+1):\n",
    "        print(\"*\",end=\" \")\n",
    "    print()"
   ]
  },
  {
   "cell_type": "code",
   "execution_count": 19,
   "id": "fec14eac",
   "metadata": {},
   "outputs": [
    {
     "name": "stdout",
     "output_type": "stream",
     "text": [
      "*\n",
      "**\n",
      "***\n",
      "****\n",
      "*****\n"
     ]
    }
   ],
   "source": [
    "for i in range(1,6):\n",
    "    print('*'*i)"
   ]
  },
  {
   "cell_type": "code",
   "execution_count": 16,
   "id": "3c976f0f",
   "metadata": {},
   "outputs": [
    {
     "name": "stdout",
     "output_type": "stream",
     "text": [
      "* * * * * \n",
      "* * * * \n",
      "* * * \n",
      "* * \n",
      "* \n"
     ]
    }
   ],
   "source": [
    "# reverse triangel pattern\n",
    "\n",
    "size=5\n",
    "\n",
    "for i in range(size,0,-1):\n",
    "    for j in range(i):\n",
    "        print(\"*\",end=\" \")\n",
    "    print()"
   ]
  },
  {
   "cell_type": "code",
   "execution_count": null,
   "id": "907d91d5",
   "metadata": {},
   "outputs": [],
   "source": []
  }
 ],
 "metadata": {
  "kernelspec": {
   "display_name": "Python 3 (ipykernel)",
   "language": "python",
   "name": "python3"
  },
  "language_info": {
   "codemirror_mode": {
    "name": "ipython",
    "version": 3
   },
   "file_extension": ".py",
   "mimetype": "text/x-python",
   "name": "python",
   "nbconvert_exporter": "python",
   "pygments_lexer": "ipython3",
   "version": "3.11.5"
  }
 },
 "nbformat": 4,
 "nbformat_minor": 5
}
