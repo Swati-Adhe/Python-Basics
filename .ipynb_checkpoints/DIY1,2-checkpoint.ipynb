{
 "cells": [
  {
   "cell_type": "markdown",
   "id": "4625de96",
   "metadata": {},
   "source": [
    "DIY 1:"
   ]
  },
  {
   "cell_type": "code",
   "execution_count": 1,
   "id": "98391f2a",
   "metadata": {},
   "outputs": [
    {
     "name": "stdout",
     "output_type": "stream",
     "text": [
      "hello world!\n"
     ]
    }
   ],
   "source": [
    "print(\"hello world!\")"
   ]
  },
  {
   "cell_type": "code",
   "execution_count": 2,
   "id": "c003dd1e",
   "metadata": {},
   "outputs": [
    {
     "name": "stdout",
     "output_type": "stream",
     "text": [
      "30\n"
     ]
    }
   ],
   "source": [
    "a=10\n",
    "b=20\n",
    "result_of_addition=a+b\n",
    "print(result_of_addition)"
   ]
  },
  {
   "cell_type": "code",
   "execution_count": 3,
   "id": "6bd9b294",
   "metadata": {},
   "outputs": [
    {
     "name": "stdout",
     "output_type": "stream",
     "text": [
      "edureka! 10\n"
     ]
    }
   ],
   "source": [
    "a='edureka!'\n",
    "b='10'\n",
    "result=a+\" \"+b\n",
    "print(result)"
   ]
  },
  {
   "cell_type": "markdown",
   "id": "f5df42a4",
   "metadata": {},
   "source": [
    "DIY 2:"
   ]
  },
  {
   "cell_type": "code",
   "execution_count": 13,
   "id": "69ae2dca",
   "metadata": {},
   "outputs": [
    {
     "name": "stdout",
     "output_type": "stream",
     "text": [
      "enter the marks of all six subjects, one by one: \n",
      "enter the marks out of 100 obtained obtain in subject 1: 24\n",
      "enter the marks out of 100 obtained obtain in subject 2: 97\n",
      "enter the marks out of 100 obtained obtain in subject 3: 56\n",
      "enter the marks out of 100 obtained obtain in subject 4: 30\n",
      "enter the marks out of 100 obtained obtain in subject 5: 82\n",
      "enter the marks out of 100 obtained obtain in subject 6: 44\n",
      "total_marks: 333\n",
      "average_marks: 55.5\n",
      "percentage obtained: 55.50000000000001\n"
     ]
    }
   ],
   "source": [
    "print(\"enter the marks of all six subjects, one by one: \")\n",
    "marks1=int(input(\"enter the marks out of 100 obtained obtain in subject 1: \"))\n",
    "marks2=int(input(\"enter the marks out of 100 obtained obtain in subject 2: \"))\n",
    "marks3=int(input(\"enter the marks out of 100 obtained obtain in subject 3: \"))\n",
    "marks4=int(input(\"enter the marks out of 100 obtained obtain in subject 4: \"))\n",
    "marks5=int(input(\"enter the marks out of 100 obtained obtain in subject 5: \"))\n",
    "marks6=int(input(\"enter the marks out of 100 obtained obtain in subject 6: \"))\n",
    "\n",
    "total_marks=marks1+marks2+marks3+marks4+marks5+marks6\n",
    "print(\"total_marks:\", total_marks)\n",
    "\n",
    "avg_marks=(marks1+marks2+marks3+marks4+marks5+marks6)/6\n",
    "print(\"average_marks:\",avg_marks)\n",
    "\n",
    "perc=(total_marks/600)*100\n",
    "print(\"percentage obtained:\",perc)"
   ]
  },
  {
   "cell_type": "code",
   "execution_count": 32,
   "id": "dd5e95ed",
   "metadata": {},
   "outputs": [
    {
     "name": "stdout",
     "output_type": "stream",
     "text": [
      "[[510, 'john'], [280, 'lucy'], [255, 'vinay'], [64, 'jay']]\n",
      "student with highest marks: john\n",
      "student with second highest marks: lucy\n"
     ]
    }
   ],
   "source": [
    "score=[[510,'john'],[280,'lucy'],[64,'jay'],[255,'vinay']]\n",
    "score.sort(reverse=True)\n",
    "print(score)\n",
    "print(\"student with highest marks:\",score[0][1])\n",
    "print(\"student with second highest marks:\",score[1][1])"
   ]
  },
  {
   "cell_type": "code",
   "execution_count": null,
   "id": "a3161d83",
   "metadata": {},
   "outputs": [],
   "source": []
  }
 ],
 "metadata": {
  "kernelspec": {
   "display_name": "Python 3 (ipykernel)",
   "language": "python",
   "name": "python3"
  },
  "language_info": {
   "codemirror_mode": {
    "name": "ipython",
    "version": 3
   },
   "file_extension": ".py",
   "mimetype": "text/x-python",
   "name": "python",
   "nbconvert_exporter": "python",
   "pygments_lexer": "ipython3",
   "version": "3.11.5"
  }
 },
 "nbformat": 4,
 "nbformat_minor": 5
}
