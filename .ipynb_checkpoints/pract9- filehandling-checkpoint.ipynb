{
 "cells": [
  {
   "cell_type": "markdown",
   "id": "8dd1ddc1",
   "metadata": {},
   "source": [
    "### read"
   ]
  },
  {
   "cell_type": "code",
   "execution_count": 8,
   "id": "6f0b92fd",
   "metadata": {},
   "outputs": [],
   "source": [
    "file=open(\"data.txt\",\"r\")"
   ]
  },
  {
   "cell_type": "code",
   "execution_count": 9,
   "id": "e7ac2110",
   "metadata": {},
   "outputs": [
    {
     "name": "stdout",
     "output_type": "stream",
     "text": [
      "<_io.TextIOWrapper name='data.txt' mode='r' encoding='cp1252'>\n"
     ]
    }
   ],
   "source": [
    "print(file)"
   ]
  },
  {
   "cell_type": "code",
   "execution_count": 10,
   "id": "60d886e4",
   "metadata": {},
   "outputs": [
    {
     "name": "stdout",
     "output_type": "stream",
     "text": [
      "In common usage, data is a collection of discrete or continuous values that convey information, describing the quantity, quality, fact, statistics, other basic units of meaning, or simply sequences of symbols that may be further interpreted formally. A datum is an individual value in a collection of data. \n"
     ]
    }
   ],
   "source": [
    "for i in file:\n",
    "    print(i)\n",
    "file.close()"
   ]
  },
  {
   "cell_type": "markdown",
   "id": "f7b6e9d3",
   "metadata": {},
   "source": [
    "### replace"
   ]
  },
  {
   "cell_type": "code",
   "execution_count": 11,
   "id": "48f52d8a",
   "metadata": {},
   "outputs": [],
   "source": [
    "file=open(\"data.txt\",\"r\")\n",
    "new=open(\"datascience.txt\",\"w+\")"
   ]
  },
  {
   "cell_type": "code",
   "execution_count": 15,
   "id": "242d3de7",
   "metadata": {},
   "outputs": [],
   "source": [
    "for i in file:\n",
    "    i=i.replace(\"data\",\"data1\")\n",
    "    new.write(i)\n",
    "file.close()\n",
    "    "
   ]
  },
  {
   "cell_type": "code",
   "execution_count": 16,
   "id": "d5bb4f6b",
   "metadata": {},
   "outputs": [],
   "source": [
    "for i in new:\n",
    "    print(i)\n",
    "new.close()"
   ]
  },
  {
   "cell_type": "markdown",
   "id": "44ec323d",
   "metadata": {},
   "source": [
    "### close"
   ]
  },
  {
   "cell_type": "code",
   "execution_count": 17,
   "id": "e023f60e",
   "metadata": {},
   "outputs": [],
   "source": [
    "file.close()"
   ]
  },
  {
   "cell_type": "markdown",
   "id": "483440e6",
   "metadata": {},
   "source": [
    "### rename"
   ]
  },
  {
   "cell_type": "code",
   "execution_count": 18,
   "id": "4beeb2fa",
   "metadata": {},
   "outputs": [],
   "source": [
    "import os\n",
    "os.rename(\"data.txt\",\"new_data.txt\")"
   ]
  },
  {
   "cell_type": "markdown",
   "id": "1325914a",
   "metadata": {},
   "source": [
    "### append"
   ]
  },
  {
   "cell_type": "code",
   "execution_count": 24,
   "id": "3cf60600",
   "metadata": {},
   "outputs": [],
   "source": [
    "ds=open(\"new_file\",\"a+\")\n",
    "ds.write(\"The Latin word data is the plural of datum,(thing) given, neuter past participle of dare, to give. The first English use of the word data is from the 1640s.\")\n",
    "for i in ds:\n",
    "    print(i)\n",
    "    ds.close()"
   ]
  },
  {
   "cell_type": "code",
   "execution_count": null,
   "id": "166f10a0",
   "metadata": {},
   "outputs": [],
   "source": []
  }
 ],
 "metadata": {
  "kernelspec": {
   "display_name": "Python 3 (ipykernel)",
   "language": "python",
   "name": "python3"
  },
  "language_info": {
   "codemirror_mode": {
    "name": "ipython",
    "version": 3
   },
   "file_extension": ".py",
   "mimetype": "text/x-python",
   "name": "python",
   "nbconvert_exporter": "python",
   "pygments_lexer": "ipython3",
   "version": "3.11.5"
  }
 },
 "nbformat": 4,
 "nbformat_minor": 5
}
