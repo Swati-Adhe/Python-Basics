{
 "cells": [
  {
   "cell_type": "markdown",
   "id": "2eadf3e0",
   "metadata": {},
   "source": [
    "### FOR Loop"
   ]
  },
  {
   "cell_type": "markdown",
   "id": "894778f1",
   "metadata": {},
   "source": [
    "###### Q.1]"
   ]
  },
  {
   "cell_type": "code",
   "execution_count": null,
   "id": "ce3e81e8",
   "metadata": {},
   "outputs": [],
   "source": [
    "num=int(input(\"enter a no to create table: \"))\n",
    "for i in range(1,11):\n",
    "        print(num,\"X\",i,\"=\",num*i)"
   ]
  },
  {
   "cell_type": "markdown",
   "id": "c410ce52",
   "metadata": {},
   "source": [
    "###### Q.2]"
   ]
  },
  {
   "cell_type": "code",
   "execution_count": null,
   "id": "423998e0",
   "metadata": {},
   "outputs": [],
   "source": [
    "size=5\n",
    "\n",
    "for i in range(size):\n",
    "    for j in range(i+1):\n",
    "        print(\"*\",end=\"\")\n",
    "    print()"
   ]
  },
  {
   "cell_type": "markdown",
   "id": "456757bb",
   "metadata": {},
   "source": [
    "###### Q.3]"
   ]
  },
  {
   "cell_type": "code",
   "execution_count": null,
   "id": "a3bf3934",
   "metadata": {},
   "outputs": [],
   "source": [
    "size=5\n",
    "\n",
    "for i in range(1,size+1):\n",
    "    for j in range(1,i+1):\n",
    "        print(i,end=\"\")\n",
    "    print()"
   ]
  },
  {
   "cell_type": "code",
   "execution_count": null,
   "id": "8a3e1f5c",
   "metadata": {},
   "outputs": [],
   "source": [
    "size=int(input(\"enter the no of row you want: \"))\n",
    "for i in range(1,size+1):\n",
    "    for j in range(1,i+1):\n",
    "        print(i,end=\"\")\n",
    "    print()"
   ]
  },
  {
   "cell_type": "code",
   "execution_count": null,
   "id": "28c67f47",
   "metadata": {},
   "outputs": [],
   "source": [
    "'3'*3"
   ]
  },
  {
   "cell_type": "code",
   "execution_count": null,
   "id": "aca3d4fb",
   "metadata": {},
   "outputs": [],
   "source": [
    "for i in range(1,6):\n",
    "    print(str(i)*i)"
   ]
  },
  {
   "cell_type": "markdown",
   "id": "d15c0323",
   "metadata": {},
   "source": [
    "### While Loop"
   ]
  },
  {
   "cell_type": "markdown",
   "id": "da7f9d45",
   "metadata": {},
   "source": [
    "###### Q.1]"
   ]
  },
  {
   "cell_type": "code",
   "execution_count": null,
   "id": "1efea24f",
   "metadata": {},
   "outputs": [],
   "source": [
    "num=6\n",
    "guess=0\n",
    "while guess!=num:\n",
    "    guess=int(input(\"enter any no between 1 to 10: \"))\n",
    "    if guess<num:\n",
    "        print(\"guesss is low\")\n",
    "    elif guess>num:\n",
    "        print(\"guess is high\")\n",
    "    else:\n",
    "        print(\"correct\")"
   ]
  },
  {
   "cell_type": "code",
   "execution_count": null,
   "id": "a0501253",
   "metadata": {},
   "outputs": [],
   "source": [
    "import random\n",
    "num=random.randint(1,10)\n",
    "guess=0\n",
    "while guess!=num:\n",
    "    guess=int(input(\"enter any no between 1 to 10: \"))\n",
    "    if guess<num:\n",
    "        print(\"guesss is low\")\n",
    "    elif guess>num:\n",
    "        print(\"guess is high\")\n",
    "    else:\n",
    "        print(\"correct\")"
   ]
  },
  {
   "cell_type": "markdown",
   "id": "adb625d3",
   "metadata": {},
   "source": [
    "##### Q.2]"
   ]
  },
  {
   "cell_type": "code",
   "execution_count": null,
   "id": "7fb29737",
   "metadata": {},
   "outputs": [],
   "source": [
    "password = 1234\n",
    "guess = 0\n",
    "while password!=guess:\n",
    "    guess=int(input(\"enter password: \"))\n",
    "    if password==guess:\n",
    "        print(\"correct\")\n",
    "    else:\n",
    "        print(\"incorrect\")  \n"
   ]
  },
  {
   "cell_type": "code",
   "execution_count": null,
   "id": "97e36b32",
   "metadata": {},
   "outputs": [],
   "source": [
    "while True:\n",
    "    password=int(input(\"enter your password: \"))\n",
    "    if password==1234:\n",
    "        print(\"correct\")\n",
    "        break\n",
    "    else:\n",
    "        print(\"incorrect\")"
   ]
  },
  {
   "cell_type": "code",
   "execution_count": null,
   "id": "c4dd8ea6",
   "metadata": {},
   "outputs": [],
   "source": [
    "while True:\n",
    "    name=(input(\"enter your name: \"))\n",
    "    if name!=\"swati\":\n",
    "        continue     \n",
    "    password=int(input(\"enter your password: \"))\n",
    "    if password==1234:\n",
    "        break\n",
    "print(\"access granted\")"
   ]
  },
  {
   "cell_type": "code",
   "execution_count": 21,
   "id": "58d07998",
   "metadata": {},
   "outputs": [
    {
     "name": "stdout",
     "output_type": "stream",
     "text": [
      "enter your name: amit\n",
      "enter your name: swati\n",
      "enter password: 1234\n",
      "access granted\n"
     ]
    }
   ],
   "source": [
    "while True:\n",
    "    name=input(\"enter your name: \")\n",
    "    if name!=\"swati\":\n",
    "        continue\n",
    "    password=int(input(\"enter password: \"))\n",
    "    if password==1234:\n",
    "        break\n",
    "print(\"access granted\")"
   ]
  },
  {
   "cell_type": "code",
   "execution_count": 4,
   "id": "175bd2ed",
   "metadata": {},
   "outputs": [
    {
     "name": "stdout",
     "output_type": "stream",
     "text": [
      "enter your name: swati\n",
      "enter your password: 1234\n",
      "access granted\n"
     ]
    }
   ],
   "source": [
    "\n",
    "while input(\"enter your name: \")!=\"swati\" or int(input(\"enter your password: \"))!=1234:\n",
    "         pass\n",
    "print(\"access granted\")"
   ]
  },
  {
   "cell_type": "code",
   "execution_count": 34,
   "id": "7461f6af",
   "metadata": {},
   "outputs": [
    {
     "name": "stdout",
     "output_type": "stream",
     "text": [
      "enter your name: amit\n",
      "enter your name: swati\n",
      "enter your password: 12345\n",
      "enter your name: swati\n",
      "enter your password: 1234\n",
      "enter your name: swati\n",
      "enter your password: 123\n",
      "access granted\n"
     ]
    }
   ],
   "source": [
    "while True:\n",
    "    if input(\"enter your name: \")==\"swati\" and int(input(\"enter your password: \"))==123:\n",
    "        print(\"access granted\")\n",
    "        break\n",
    "    "
   ]
  },
  {
   "cell_type": "code",
   "execution_count": 19,
   "id": "04b6ecfe",
   "metadata": {},
   "outputs": [
    {
     "name": "stdout",
     "output_type": "stream",
     "text": [
      "enter name and password: swati 1234\n"
     ]
    }
   ],
   "source": [
    "while True:\n",
    "    name,password=input(\"enter name and password: \").split()\n",
    "    if name==\"swati\" and password==\"1234\":\n",
    "        break"
   ]
  },
  {
   "cell_type": "code",
   "execution_count": 10,
   "id": "f69a0725",
   "metadata": {},
   "outputs": [
    {
     "name": "stdout",
     "output_type": "stream",
     "text": [
      "enter name: amit\n",
      "enter pass: 234\n",
      "enter name: swati\n",
      "enter pass: 123456\n",
      "enter name: swati\n",
      "enter pass: 1234\n",
      "access granted\n"
     ]
    }
   ],
   "source": [
    "while True:\n",
    "    name=input(\"enter name: \")\n",
    "    password=int(input(\"enter pass: \"))\n",
    "    if name==\"swati\" and password==1234:\n",
    "        print(\"access granted\")\n",
    "        break\n",
    "        "
   ]
  },
  {
   "cell_type": "code",
   "execution_count": 38,
   "id": "5b976ceb",
   "metadata": {},
   "outputs": [
    {
     "name": "stdout",
     "output_type": "stream",
     "text": [
      "enter name: amit\n",
      "enter name: swati\n",
      "enter password1234567\n",
      "enter password1234\n",
      "access granted\n"
     ]
    }
   ],
   "source": [
    "while True:\n",
    "    name=input(\"enter name: \")\n",
    "    if name!=\"swati\":\n",
    "         continue\n",
    "    break\n",
    "    \n",
    "while True:\n",
    "    password=int(input(\"enter password: \"))\n",
    "    if password!=1234:\n",
    "        continue\n",
    "    break\n",
    "print(\"access granted\")"
   ]
  },
  {
   "cell_type": "markdown",
   "id": "6c4a45e7",
   "metadata": {},
   "source": [
    "##### Q.3]"
   ]
  },
  {
   "cell_type": "code",
   "execution_count": null,
   "id": "a18ac5c9",
   "metadata": {},
   "outputs": [],
   "source": [
    "num=int(input(\"enter your number: \"))\n",
    "reverse=0\n",
    "\n",
    "while num!=0:\n",
    "    remainder=num%10\n",
    "    reverse=reverse*10+remainder\n",
    "    num //=10\n",
    "print(\"your reverse number: \",reverse)"
   ]
  },
  {
   "cell_type": "code",
   "execution_count": null,
   "id": "bc4f153c",
   "metadata": {},
   "outputs": [],
   "source": []
  }
 ],
 "metadata": {
  "kernelspec": {
   "display_name": "Python 3 (ipykernel)",
   "language": "python",
   "name": "python3"
  },
  "language_info": {
   "codemirror_mode": {
    "name": "ipython",
    "version": 3
   },
   "file_extension": ".py",
   "mimetype": "text/x-python",
   "name": "python",
   "nbconvert_exporter": "python",
   "pygments_lexer": "ipython3",
   "version": "3.11.5"
  }
 },
 "nbformat": 4,
 "nbformat_minor": 5
}
