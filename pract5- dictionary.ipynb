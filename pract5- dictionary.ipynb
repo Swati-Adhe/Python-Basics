{
 "cells": [
  {
   "cell_type": "code",
   "execution_count": 4,
   "id": "4048b673",
   "metadata": {},
   "outputs": [],
   "source": [
    "emp_data={'name':'sai','age':20,'band':'c'}"
   ]
  },
  {
   "cell_type": "code",
   "execution_count": 10,
   "id": "48622fde",
   "metadata": {},
   "outputs": [
    {
     "data": {
      "text/plain": [
       "{'name': 'sai', 'age': 20, 'band': 'c'}"
      ]
     },
     "execution_count": 10,
     "metadata": {},
     "output_type": "execute_result"
    }
   ],
   "source": [
    "emp_data"
   ]
  },
  {
   "cell_type": "code",
   "execution_count": 12,
   "id": "adf291b8",
   "metadata": {},
   "outputs": [
    {
     "data": {
      "text/plain": [
       "'sai'"
      ]
     },
     "execution_count": 12,
     "metadata": {},
     "output_type": "execute_result"
    }
   ],
   "source": [
    "emp_data['name']"
   ]
  },
  {
   "cell_type": "code",
   "execution_count": 13,
   "id": "44cdd7f1",
   "metadata": {},
   "outputs": [],
   "source": [
    "emp_data['age']=21"
   ]
  },
  {
   "cell_type": "code",
   "execution_count": 14,
   "id": "76c7a384",
   "metadata": {},
   "outputs": [
    {
     "data": {
      "text/plain": [
       "{'name': 'sai', 'age': 21, 'band': 'c'}"
      ]
     },
     "execution_count": 14,
     "metadata": {},
     "output_type": "execute_result"
    }
   ],
   "source": [
    "emp_data"
   ]
  },
  {
   "cell_type": "code",
   "execution_count": 19,
   "id": "d07cdd6d",
   "metadata": {},
   "outputs": [],
   "source": [
    "emp_data.update({\"gender\":\"male\",'phone_no':'1234567'})"
   ]
  },
  {
   "cell_type": "code",
   "execution_count": 20,
   "id": "b67ff1eb",
   "metadata": {},
   "outputs": [
    {
     "data": {
      "text/plain": [
       "{'name': 'sai',\n",
       " 'age': 21,\n",
       " 'band': 'c',\n",
       " 'gender': 'male',\n",
       " 'phone_no': '1234567'}"
      ]
     },
     "execution_count": 20,
     "metadata": {},
     "output_type": "execute_result"
    }
   ],
   "source": [
    "emp_data"
   ]
  },
  {
   "cell_type": "code",
   "execution_count": 21,
   "id": "4f30a265",
   "metadata": {},
   "outputs": [
    {
     "data": {
      "text/plain": [
       "'1234567'"
      ]
     },
     "execution_count": 21,
     "metadata": {},
     "output_type": "execute_result"
    }
   ],
   "source": [
    "emp_data.pop('phone_no')"
   ]
  },
  {
   "cell_type": "code",
   "execution_count": 22,
   "id": "d2d57f49",
   "metadata": {},
   "outputs": [
    {
     "data": {
      "text/plain": [
       "{'name': 'sai', 'age': 21, 'band': 'c', 'gender': 'male'}"
      ]
     },
     "execution_count": 22,
     "metadata": {},
     "output_type": "execute_result"
    }
   ],
   "source": [
    "emp_data"
   ]
  },
  {
   "cell_type": "code",
   "execution_count": 23,
   "id": "51228866",
   "metadata": {},
   "outputs": [],
   "source": [
    "emp_data['phone_no']='12345678'"
   ]
  },
  {
   "cell_type": "code",
   "execution_count": 24,
   "id": "038b4f15",
   "metadata": {},
   "outputs": [
    {
     "data": {
      "text/plain": [
       "{'name': 'sai',\n",
       " 'age': 21,\n",
       " 'band': 'c',\n",
       " 'gender': 'male',\n",
       " 'phone_no': '12345678'}"
      ]
     },
     "execution_count": 24,
     "metadata": {},
     "output_type": "execute_result"
    }
   ],
   "source": [
    "emp_data"
   ]
  },
  {
   "cell_type": "code",
   "execution_count": 26,
   "id": "9518f5f5",
   "metadata": {},
   "outputs": [
    {
     "ename": "AttributeError",
     "evalue": "'dict' object has no attribute 'key'",
     "output_type": "error",
     "traceback": [
      "\u001b[1;31m---------------------------------------------------------------------------\u001b[0m",
      "\u001b[1;31mAttributeError\u001b[0m                            Traceback (most recent call last)",
      "Cell \u001b[1;32mIn[26], line 1\u001b[0m\n\u001b[1;32m----> 1\u001b[0m emp_data\u001b[38;5;241m.\u001b[39mkey()\n",
      "\u001b[1;31mAttributeError\u001b[0m: 'dict' object has no attribute 'key'"
     ]
    }
   ],
   "source": [
    "emp_data.key()"
   ]
  },
  {
   "cell_type": "code",
   "execution_count": 27,
   "id": "be94c802",
   "metadata": {},
   "outputs": [
    {
     "ename": "AttributeError",
     "evalue": "'dict' object has no attribute 'value'",
     "output_type": "error",
     "traceback": [
      "\u001b[1;31m---------------------------------------------------------------------------\u001b[0m",
      "\u001b[1;31mAttributeError\u001b[0m                            Traceback (most recent call last)",
      "Cell \u001b[1;32mIn[27], line 1\u001b[0m\n\u001b[1;32m----> 1\u001b[0m emp_data\u001b[38;5;241m.\u001b[39mvalue()\n",
      "\u001b[1;31mAttributeError\u001b[0m: 'dict' object has no attribute 'value'"
     ]
    }
   ],
   "source": [
    "emp_data.value()"
   ]
  },
  {
   "cell_type": "code",
   "execution_count": null,
   "id": "1eae3550",
   "metadata": {},
   "outputs": [],
   "source": []
  }
 ],
 "metadata": {
  "kernelspec": {
   "display_name": "Python 3 (ipykernel)",
   "language": "python",
   "name": "python3"
  },
  "language_info": {
   "codemirror_mode": {
    "name": "ipython",
    "version": 3
   },
   "file_extension": ".py",
   "mimetype": "text/x-python",
   "name": "python",
   "nbconvert_exporter": "python",
   "pygments_lexer": "ipython3",
   "version": "3.11.5"
  }
 },
 "nbformat": 4,
 "nbformat_minor": 5
}
