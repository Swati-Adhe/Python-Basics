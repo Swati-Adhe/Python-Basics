{
 "cells": [
  {
   "cell_type": "code",
   "execution_count": 7,
   "id": "10f2e5fe",
   "metadata": {},
   "outputs": [],
   "source": [
    "def add(a1,a2):\n",
    "    print(f\"a1 is {a1}\")\n",
    "    print(f\"a2 is {a2}\")\n",
    "    print(f\"sum is {a1+a2}\")"
   ]
  },
  {
   "cell_type": "markdown",
   "id": "59641c07",
   "metadata": {},
   "source": [
    "### default argument value"
   ]
  },
  {
   "cell_type": "code",
   "execution_count": 3,
   "id": "8d1cd3c5",
   "metadata": {},
   "outputs": [],
   "source": [
    "def add(a1,a2=50):\n",
    "    print(\"a1 is \",a1)\n",
    "    print(\"a2 is \",a2)\n",
    "    print(\"sum is \",(a1+a2))"
   ]
  },
  {
   "cell_type": "code",
   "execution_count": 8,
   "id": "f868d5a5",
   "metadata": {},
   "outputs": [
    {
     "name": "stdout",
     "output_type": "stream",
     "text": [
      "a1 is 10\n",
      "a2 is 20\n",
      "sum is 30\n"
     ]
    }
   ],
   "source": [
    "add(10,20)"
   ]
  },
  {
   "cell_type": "code",
   "execution_count": 9,
   "id": "bf877a82",
   "metadata": {},
   "outputs": [],
   "source": [
    "def myfun(product1,product2):\n",
    "    print(product1)\n",
    "    print(product2)"
   ]
  },
  {
   "cell_type": "code",
   "execution_count": 15,
   "id": "74287626",
   "metadata": {},
   "outputs": [
    {
     "name": "stdout",
     "output_type": "stream",
     "text": [
      "cake\n",
      "milk\n"
     ]
    }
   ],
   "source": [
    "myfun(\"cake\",\"milk\")"
   ]
  },
  {
   "cell_type": "code",
   "execution_count": 10,
   "id": "8d290e76",
   "metadata": {},
   "outputs": [],
   "source": [
    "def myfun(product1,*products):     # for multiple arguments and it not compalsoury\n",
    "    print(product1)\n",
    "    for i in products:\n",
    "        print(i)"
   ]
  },
  {
   "cell_type": "code",
   "execution_count": 11,
   "id": "10f70a48",
   "metadata": {},
   "outputs": [
    {
     "name": "stdout",
     "output_type": "stream",
     "text": [
      "cake\n",
      "milk\n",
      "tea\n",
      "coffee\n"
     ]
    }
   ],
   "source": [
    "myfun(\"cake\",\"milk\",\"tea\",\"coffee\")"
   ]
  },
  {
   "cell_type": "markdown",
   "id": "8c921d26",
   "metadata": {},
   "source": [
    "### lambda"
   ]
  },
  {
   "cell_type": "code",
   "execution_count": 12,
   "id": "2bc1f2e0",
   "metadata": {},
   "outputs": [],
   "source": [
    "def addition(a1,a2):\n",
    "    print(a1+a2)"
   ]
  },
  {
   "cell_type": "code",
   "execution_count": 13,
   "id": "2bbd1653",
   "metadata": {},
   "outputs": [],
   "source": [
    "adi=lambda a1,a2:a1+a2"
   ]
  },
  {
   "cell_type": "code",
   "execution_count": 14,
   "id": "0245bc60",
   "metadata": {},
   "outputs": [
    {
     "data": {
      "text/plain": [
       "30"
      ]
     },
     "execution_count": 14,
     "metadata": {},
     "output_type": "execute_result"
    }
   ],
   "source": [
    "adi(10,20)"
   ]
  },
  {
   "cell_type": "markdown",
   "id": "9fdf85ce",
   "metadata": {},
   "source": [
    "### filter"
   ]
  },
  {
   "cell_type": "code",
   "execution_count": 25,
   "id": "b812eb56",
   "metadata": {},
   "outputs": [],
   "source": [
    "def even(lis):\n",
    "    for i in lis:\n",
    "        if i%2==0:\n",
    "            pass"
   ]
  },
  {
   "cell_type": "code",
   "execution_count": 17,
   "id": "4b819d2d",
   "metadata": {},
   "outputs": [
    {
     "name": "stdout",
     "output_type": "stream",
     "text": [
      "2\n",
      "4\n",
      "6\n",
      "8\n",
      "10\n",
      "12\n",
      "14\n"
     ]
    }
   ],
   "source": [
    "list_1=[1,2,3,4,5,6,7,8,9,10,11,12,13,14,15]\n",
    "even(list_1)"
   ]
  },
  {
   "cell_type": "code",
   "execution_count": 18,
   "id": "fdf78bb5",
   "metadata": {},
   "outputs": [],
   "source": [
    "list_1=[1,2,3,4,5,6,7,8,9,10,11,12,13,14,15]\n",
    "eve=list(filter(lambda x:x%2==0,list_1))"
   ]
  },
  {
   "cell_type": "code",
   "execution_count": 19,
   "id": "4febf07a",
   "metadata": {},
   "outputs": [
    {
     "data": {
      "text/plain": [
       "[2, 4, 6, 8, 10, 12, 14]"
      ]
     },
     "execution_count": 19,
     "metadata": {},
     "output_type": "execute_result"
    }
   ],
   "source": [
    "eve"
   ]
  },
  {
   "cell_type": "code",
   "execution_count": 20,
   "id": "7b20cffc",
   "metadata": {},
   "outputs": [
    {
     "data": {
      "text/plain": [
       "<filter at 0x1f49eed0580>"
      ]
     },
     "execution_count": 20,
     "metadata": {},
     "output_type": "execute_result"
    }
   ],
   "source": [
    "(filter(lambda x:x%2==0,list_1))"
   ]
  },
  {
   "cell_type": "code",
   "execution_count": 33,
   "id": "4cc871cf",
   "metadata": {},
   "outputs": [
    {
     "data": {
      "text/plain": [
       "[2, 4, 6, 8, 10, 12, 14, 16, 18, 20, 22, 24]"
      ]
     },
     "execution_count": 33,
     "metadata": {},
     "output_type": "execute_result"
    }
   ],
   "source": [
    "list_1=range(1,25)\n",
    "eve=list(filter(lambda x:x%2==0,list_1))\n",
    "eve"
   ]
  },
  {
   "cell_type": "markdown",
   "id": "156e09ca",
   "metadata": {},
   "source": [
    "### map"
   ]
  },
  {
   "cell_type": "code",
   "execution_count": 29,
   "id": "aecb8a7d",
   "metadata": {},
   "outputs": [],
   "source": [
    "list_1=[1,2,3,4,5,6,7,8,9,10,11,12,13,14,15]\n",
    "power=list(map(lambda x:x**2,list_1))"
   ]
  },
  {
   "cell_type": "code",
   "execution_count": 34,
   "id": "641511ab",
   "metadata": {},
   "outputs": [
    {
     "data": {
      "text/plain": [
       "[1, 4, 9, 16, 25, 36, 49, 64, 81, 100, 121, 144, 169, 196, 225]"
      ]
     },
     "execution_count": 34,
     "metadata": {},
     "output_type": "execute_result"
    }
   ],
   "source": [
    "power"
   ]
  },
  {
   "cell_type": "code",
   "execution_count": 48,
   "id": "162c80d3",
   "metadata": {},
   "outputs": [],
   "source": [
    "number=[-1,-2,-3,-4,0,8,1,5,-7,3,7]\n",
    "num=list(filter(lambda x:x>=0,number))"
   ]
  },
  {
   "cell_type": "code",
   "execution_count": 49,
   "id": "b4a2f0fb",
   "metadata": {},
   "outputs": [],
   "source": [
    "num.sort()"
   ]
  },
  {
   "cell_type": "code",
   "execution_count": 50,
   "id": "fd323ee3",
   "metadata": {},
   "outputs": [
    {
     "name": "stdout",
     "output_type": "stream",
     "text": [
      "orignal tuple:  [-1, -2, -3, -4, 0, 8, 1, 5, -7, 3, 7]\n",
      "filter tuple:  [0, 1, 3, 5, 7, 8]\n"
     ]
    }
   ],
   "source": [
    "print(\"orignal tuple: \",number)\n",
    "print(\"filter tuple: \",num)"
   ]
  },
  {
   "cell_type": "code",
   "execution_count": null,
   "id": "aff8a9ee",
   "metadata": {},
   "outputs": [],
   "source": []
  }
 ],
 "metadata": {
  "kernelspec": {
   "display_name": "Python 3 (ipykernel)",
   "language": "python",
   "name": "python3"
  },
  "language_info": {
   "codemirror_mode": {
    "name": "ipython",
    "version": 3
   },
   "file_extension": ".py",
   "mimetype": "text/x-python",
   "name": "python",
   "nbconvert_exporter": "python",
   "pygments_lexer": "ipython3",
   "version": "3.11.5"
  }
 },
 "nbformat": 4,
 "nbformat_minor": 5
}
