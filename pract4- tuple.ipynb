{
 "cells": [
  {
   "cell_type": "code",
   "execution_count": 2,
   "id": "aea55d68",
   "metadata": {},
   "outputs": [],
   "source": [
    "tuple_a=(14,64,['sai','riya','ajit'],83,44,75)"
   ]
  },
  {
   "cell_type": "code",
   "execution_count": 3,
   "id": "f65deaa2",
   "metadata": {},
   "outputs": [
    {
     "data": {
      "text/plain": [
       "(14, 64, ['sai', 'riya', 'ajit'], 83, 44, 75)"
      ]
     },
     "execution_count": 3,
     "metadata": {},
     "output_type": "execute_result"
    }
   ],
   "source": [
    "tuple_a"
   ]
  },
  {
   "cell_type": "code",
   "execution_count": 4,
   "id": "98d7ccf2",
   "metadata": {},
   "outputs": [
    {
     "data": {
      "text/plain": [
       "64"
      ]
     },
     "execution_count": 4,
     "metadata": {},
     "output_type": "execute_result"
    }
   ],
   "source": [
    "tuple_a[1]"
   ]
  },
  {
   "cell_type": "code",
   "execution_count": 5,
   "id": "86a5c17f",
   "metadata": {},
   "outputs": [
    {
     "data": {
      "text/plain": [
       "['sai', 'riya', 'ajit']"
      ]
     },
     "execution_count": 5,
     "metadata": {},
     "output_type": "execute_result"
    }
   ],
   "source": [
    "tuple_a[2]"
   ]
  },
  {
   "cell_type": "code",
   "execution_count": 6,
   "id": "1669523f",
   "metadata": {},
   "outputs": [
    {
     "data": {
      "text/plain": [
       "'ajit'"
      ]
     },
     "execution_count": 6,
     "metadata": {},
     "output_type": "execute_result"
    }
   ],
   "source": [
    "tuple_a[2][2]"
   ]
  },
  {
   "cell_type": "code",
   "execution_count": 9,
   "id": "31249a18",
   "metadata": {},
   "outputs": [
    {
     "data": {
      "text/plain": [
       "'anjali'"
      ]
     },
     "execution_count": 9,
     "metadata": {},
     "output_type": "execute_result"
    }
   ],
   "source": [
    "item='anjali'\n",
    "item"
   ]
  },
  {
   "cell_type": "code",
   "execution_count": 10,
   "id": "e74ebf45",
   "metadata": {},
   "outputs": [],
   "source": [
    "tuple_a[2].append(item)"
   ]
  },
  {
   "cell_type": "code",
   "execution_count": 11,
   "id": "963c3e2e",
   "metadata": {},
   "outputs": [
    {
     "data": {
      "text/plain": [
       "(14, 64, ['sai', 'riya', 'ajit', 'anjali'], 83, 44, 75)"
      ]
     },
     "execution_count": 11,
     "metadata": {},
     "output_type": "execute_result"
    }
   ],
   "source": [
    "tuple_a"
   ]
  },
  {
   "cell_type": "code",
   "execution_count": 12,
   "id": "745242d8",
   "metadata": {},
   "outputs": [],
   "source": [
    "tuple_a[2][2]='amit'"
   ]
  },
  {
   "cell_type": "code",
   "execution_count": 13,
   "id": "b5265759",
   "metadata": {},
   "outputs": [
    {
     "data": {
      "text/plain": [
       "['sai', 'riya', 'amit', 'anjali']"
      ]
     },
     "execution_count": 13,
     "metadata": {},
     "output_type": "execute_result"
    }
   ],
   "source": [
    "tuple_a[2]"
   ]
  },
  {
   "cell_type": "code",
   "execution_count": 14,
   "id": "4c8c567e",
   "metadata": {},
   "outputs": [
    {
     "data": {
      "text/plain": [
       "(14, 64, ['sai', 'riya', 'amit', 'anjali'], 83, 44, 75)"
      ]
     },
     "execution_count": 14,
     "metadata": {},
     "output_type": "execute_result"
    }
   ],
   "source": [
    "tuple_a"
   ]
  },
  {
   "cell_type": "code",
   "execution_count": null,
   "id": "69712c52",
   "metadata": {},
   "outputs": [],
   "source": []
  }
 ],
 "metadata": {
  "kernelspec": {
   "display_name": "Python 3 (ipykernel)",
   "language": "python",
   "name": "python3"
  },
  "language_info": {
   "codemirror_mode": {
    "name": "ipython",
    "version": 3
   },
   "file_extension": ".py",
   "mimetype": "text/x-python",
   "name": "python",
   "nbconvert_exporter": "python",
   "pygments_lexer": "ipython3",
   "version": "3.11.5"
  }
 },
 "nbformat": 4,
 "nbformat_minor": 5
}
