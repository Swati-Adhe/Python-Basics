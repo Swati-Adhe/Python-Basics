{
 "cells": [
  {
   "cell_type": "markdown",
   "id": "30c80d65",
   "metadata": {},
   "source": [
    "### Operator"
   ]
  },
  {
   "cell_type": "code",
   "execution_count": 1,
   "id": "bead3822",
   "metadata": {},
   "outputs": [
    {
     "data": {
      "text/plain": [
       "108.84"
      ]
     },
     "execution_count": 1,
     "metadata": {},
     "output_type": "execute_result"
    }
   ],
   "source": [
    "3-54/25+2*54"
   ]
  },
  {
   "cell_type": "code",
   "execution_count": 2,
   "id": "f07fa3c7",
   "metadata": {},
   "outputs": [
    {
     "data": {
      "text/plain": [
       "-0.4285714285714288"
      ]
     },
     "execution_count": 2,
     "metadata": {},
     "output_type": "execute_result"
    }
   ],
   "source": [
    "2/7*23+5-12"
   ]
  },
  {
   "cell_type": "code",
   "execution_count": 3,
   "id": "f1e611e9",
   "metadata": {},
   "outputs": [
    {
     "data": {
      "text/plain": [
       "1107.0"
      ]
     },
     "execution_count": 3,
     "metadata": {},
     "output_type": "execute_result"
    }
   ],
   "source": [
    "26*45+5-68/1"
   ]
  },
  {
   "cell_type": "code",
   "execution_count": 4,
   "id": "5376dbe8",
   "metadata": {},
   "outputs": [
    {
     "data": {
      "text/plain": [
       "90.66666666666667"
      ]
     },
     "execution_count": 4,
     "metadata": {},
     "output_type": "execute_result"
    }
   ],
   "source": [
    "64+5*76/12-5"
   ]
  },
  {
   "cell_type": "code",
   "execution_count": 5,
   "id": "900a5833",
   "metadata": {},
   "outputs": [
    {
     "data": {
      "text/plain": [
       "31.333333333333332"
      ]
     },
     "execution_count": 5,
     "metadata": {},
     "output_type": "execute_result"
    }
   ],
   "source": [
    "36-5*2+16/3"
   ]
  },
  {
   "cell_type": "code",
   "execution_count": 6,
   "id": "5bea2413",
   "metadata": {},
   "outputs": [
    {
     "data": {
      "text/plain": [
       "2"
      ]
     },
     "execution_count": 6,
     "metadata": {},
     "output_type": "execute_result"
    }
   ],
   "source": [
    "21>>3"
   ]
  }
 ],
 "metadata": {
  "kernelspec": {
   "display_name": "Python 3 (ipykernel)",
   "language": "python",
   "name": "python3"
  },
  "language_info": {
   "codemirror_mode": {
    "name": "ipython",
    "version": 3
   },
   "file_extension": ".py",
   "mimetype": "text/x-python",
   "name": "python",
   "nbconvert_exporter": "python",
   "pygments_lexer": "ipython3",
   "version": "3.11.5"
  }
 },
 "nbformat": 4,
 "nbformat_minor": 5
}
