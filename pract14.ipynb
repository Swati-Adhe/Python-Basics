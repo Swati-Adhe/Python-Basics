{
 "cells": [
  {
   "cell_type": "code",
   "execution_count": 2,
   "id": "68414c1d",
   "metadata": {},
   "outputs": [],
   "source": [
    "import numpy as np"
   ]
  },
  {
   "cell_type": "markdown",
   "id": "87f51746",
   "metadata": {},
   "source": [
    "#### load data"
   ]
  },
  {
   "cell_type": "code",
   "execution_count": 8,
   "id": "5791332d",
   "metadata": {},
   "outputs": [
    {
     "data": {
      "text/plain": [
       "array([420., 280., 350., 269., 317., 470., 333., 365., 305., 350., 460.,\n",
       "       474., 409., 377., 415., 382., 298., 462., 370., 313., 464., 302.,\n",
       "       252., 259., 308., 392., 424., 403., 370., 328., 398., 434., 291.,\n",
       "       472., 263., 439., 464., 449., 401., 364., 296., 292., 438., 357.,\n",
       "       331., 317., 429., 407., 321., 274., 447., 274., 437., 411., 257.,\n",
       "       310., 396., 270., 311., 459., 378., 316., 283., 266., 381., 409.,\n",
       "       313., 306., 448., 348., 292., 400., 352., 441., 428., 309., 441.,\n",
       "       439., 264., 281., 302., 432., 423., 336., 383., 321., 469., 270.,\n",
       "       341., 281., 403., 333., 323., 348., 345., 397., 449., 261., 456.,\n",
       "       370., 322., 379., 446., 404., 301., 254., 351., 444., 264., 286.,\n",
       "       463., 273., 316., 324., 465., 398., 324., 340., 414., 346., 408.,\n",
       "       332., 394., 474., 398., 262., 410., 391., 444., 461.])"
      ]
     },
     "execution_count": 8,
     "metadata": {},
     "output_type": "execute_result"
    }
   ],
   "source": [
    "#Load a marks.csv file \n",
    "data = np.loadtxt('marks.csv',delimiter=',',usecols=(5),skiprows=1)\n",
    "data"
   ]
  },
  {
   "cell_type": "code",
   "execution_count": null,
   "id": "d04acff8",
   "metadata": {},
   "outputs": [],
   "source": []
  }
 ],
 "metadata": {
  "kernelspec": {
   "display_name": "Python 3 (ipykernel)",
   "language": "python",
   "name": "python3"
  },
  "language_info": {
   "codemirror_mode": {
    "name": "ipython",
    "version": 3
   },
   "file_extension": ".py",
   "mimetype": "text/x-python",
   "name": "python",
   "nbconvert_exporter": "python",
   "pygments_lexer": "ipython3",
   "version": "3.11.5"
  }
 },
 "nbformat": 4,
 "nbformat_minor": 5
}
