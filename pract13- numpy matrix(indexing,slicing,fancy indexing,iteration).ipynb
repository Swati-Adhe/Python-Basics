{
 "cells": [
  {
   "cell_type": "code",
   "execution_count": 2,
   "id": "9e04f799",
   "metadata": {},
   "outputs": [],
   "source": [
    "import numpy as np"
   ]
  },
  {
   "cell_type": "code",
   "execution_count": 3,
   "id": "aab74106",
   "metadata": {},
   "outputs": [],
   "source": [
    "a=np.array([[5,4]])\n",
    "b=np.array([[11,9],[8,17]])"
   ]
  },
  {
   "cell_type": "code",
   "execution_count": 4,
   "id": "27cb8fb4",
   "metadata": {},
   "outputs": [
    {
     "data": {
      "text/plain": [
       "array([[55, 36],\n",
       "       [40, 68]])"
      ]
     },
     "execution_count": 4,
     "metadata": {},
     "output_type": "execute_result"
    }
   ],
   "source": [
    "c=a*b # normal multiplication\n",
    "c"
   ]
  },
  {
   "cell_type": "code",
   "execution_count": 5,
   "id": "328802bd",
   "metadata": {},
   "outputs": [
    {
     "data": {
      "text/plain": [
       "array([[ 87, 113]])"
      ]
     },
     "execution_count": 5,
     "metadata": {},
     "output_type": "execute_result"
    }
   ],
   "source": [
    "d=np.dot(a,b)  # dot products\n",
    "d"
   ]
  },
  {
   "cell_type": "code",
   "execution_count": 6,
   "id": "8abcbb69",
   "metadata": {},
   "outputs": [
    {
     "data": {
      "text/plain": [
       "array([[5, 6],\n",
       "       [1, 2]])"
      ]
     },
     "execution_count": 6,
     "metadata": {},
     "output_type": "execute_result"
    }
   ],
   "source": [
    "arr=np.array([[5,6],[1,2]])\n",
    "arr"
   ]
  },
  {
   "cell_type": "code",
   "execution_count": 7,
   "id": "9d9f103d",
   "metadata": {},
   "outputs": [
    {
     "ename": "TypeError",
     "evalue": "unsupported operand type(s) for %: 'list' and 'int'",
     "output_type": "error",
     "traceback": [
      "\u001b[1;31m---------------------------------------------------------------------------\u001b[0m",
      "\u001b[1;31mTypeError\u001b[0m                                 Traceback (most recent call last)",
      "Cell \u001b[1;32mIn[7], line 1\u001b[0m\n\u001b[1;32m----> 1\u001b[0m [\u001b[38;5;241m5\u001b[39m,\u001b[38;5;241m4\u001b[39m] \u001b[38;5;241m%\u001b[39m \u001b[38;5;241m23\u001b[39m\n",
      "\u001b[1;31mTypeError\u001b[0m: unsupported operand type(s) for %: 'list' and 'int'"
     ]
    }
   ],
   "source": [
    "[5,4] % 23  # array remainder or mod not possible "
   ]
  },
  {
   "cell_type": "markdown",
   "id": "5f9b62ea",
   "metadata": {},
   "source": [
    "#### normal multiplication encryption"
   ]
  },
  {
   "cell_type": "code",
   "execution_count": 9,
   "id": "16d67e68",
   "metadata": {},
   "outputs": [
    {
     "name": "stdout",
     "output_type": "stream",
     "text": [
      "h= [[ 9 13]\n",
      " [17 22]]\n"
     ]
    }
   ],
   "source": [
    "h=np.mod(c,23)  # it take remainder(mod) of array\n",
    "print(\"h=\",h)"
   ]
  },
  {
   "cell_type": "code",
   "execution_count": 10,
   "id": "debabaae",
   "metadata": {},
   "outputs": [
    {
     "data": {
      "text/plain": [
       "array([[0, 4],\n",
       "       [0, 0]])"
      ]
     },
     "execution_count": 10,
     "metadata": {},
     "output_type": "execute_result"
    }
   ],
   "source": [
    "h1=np.mod(a,arr)\n",
    "h1"
   ]
  },
  {
   "cell_type": "code",
   "execution_count": 11,
   "id": "59759b6b",
   "metadata": {},
   "outputs": [],
   "source": [
    "h2=np.mod(a,b)"
   ]
  },
  {
   "cell_type": "markdown",
   "id": "2ee92ddd",
   "metadata": {},
   "source": [
    "#### creting array with random number"
   ]
  },
  {
   "cell_type": "code",
   "execution_count": 12,
   "id": "769925cd",
   "metadata": {},
   "outputs": [
    {
     "data": {
      "text/plain": [
       "array([[44,  0, 43, 92],\n",
       "       [26, 89, 99, 77],\n",
       "       [10,  5,  2, 29],\n",
       "       [14, 57, 83, 16]])"
      ]
     },
     "execution_count": 12,
     "metadata": {},
     "output_type": "execute_result"
    }
   ],
   "source": [
    "arr1=np.random.randint(0,100,(4,4))\n",
    "arr1"
   ]
  },
  {
   "cell_type": "markdown",
   "id": "15f1b398",
   "metadata": {},
   "source": [
    "#### indexing"
   ]
  },
  {
   "cell_type": "code",
   "execution_count": 42,
   "id": "532c84ac",
   "metadata": {},
   "outputs": [
    {
     "data": {
      "text/plain": [
       "array([17, 20, 51,  8])"
      ]
     },
     "execution_count": 42,
     "metadata": {},
     "output_type": "execute_result"
    }
   ],
   "source": [
    "arr1[1]"
   ]
  },
  {
   "cell_type": "code",
   "execution_count": 47,
   "id": "38fd70ce",
   "metadata": {},
   "outputs": [
    {
     "data": {
      "text/plain": [
       "20"
      ]
     },
     "execution_count": 47,
     "metadata": {},
     "output_type": "execute_result"
    }
   ],
   "source": [
    "arr1[1,1]"
   ]
  },
  {
   "cell_type": "markdown",
   "id": "c30cc727",
   "metadata": {},
   "source": [
    "#### slicing [rows,column] ([start:stop],[start:stop])"
   ]
  },
  {
   "cell_type": "code",
   "execution_count": 45,
   "id": "716faac3",
   "metadata": {},
   "outputs": [
    {
     "data": {
      "text/plain": [
       "array([[17, 20, 51,  8],\n",
       "       [40, 29, 36, 49]])"
      ]
     },
     "execution_count": 45,
     "metadata": {},
     "output_type": "execute_result"
    }
   ],
   "source": [
    "arr1[1:3]            "
   ]
  },
  {
   "cell_type": "code",
   "execution_count": 46,
   "id": "e02614c4",
   "metadata": {},
   "outputs": [
    {
     "data": {
      "text/plain": [
       "array([[20, 51],\n",
       "       [29, 36]])"
      ]
     },
     "execution_count": 46,
     "metadata": {},
     "output_type": "execute_result"
    }
   ],
   "source": [
    "arr1[1:3,1:3]"
   ]
  },
  {
   "cell_type": "code",
   "execution_count": 49,
   "id": "a8a36733",
   "metadata": {},
   "outputs": [
    {
     "data": {
      "text/plain": [
       "array([[36, 49],\n",
       "       [64, 60]])"
      ]
     },
     "execution_count": 49,
     "metadata": {},
     "output_type": "execute_result"
    }
   ],
   "source": [
    "# bottom right 4 element\n",
    "arr1[2:4,2:4]"
   ]
  },
  {
   "cell_type": "code",
   "execution_count": 58,
   "id": "0df99415",
   "metadata": {},
   "outputs": [
    {
     "data": {
      "text/plain": [
       "array([[29],\n",
       "       [77]])"
      ]
     },
     "execution_count": 58,
     "metadata": {},
     "output_type": "execute_result"
    }
   ],
   "source": [
    "# bottom 2 element of 2nd column\n",
    "arr1[2:4,1:2]"
   ]
  },
  {
   "cell_type": "code",
   "execution_count": 59,
   "id": "ac29d3df",
   "metadata": {},
   "outputs": [
    {
     "data": {
      "text/plain": [
       "array([[20, 51],\n",
       "       [29, 36]])"
      ]
     },
     "execution_count": 59,
     "metadata": {},
     "output_type": "execute_result"
    }
   ],
   "source": [
    "# middle 4 element\n",
    "arr1[1:3,1:3]"
   ]
  },
  {
   "cell_type": "markdown",
   "id": "71916aa3",
   "metadata": {},
   "source": [
    "#### fancy indexing"
   ]
  },
  {
   "cell_type": "code",
   "execution_count": 13,
   "id": "861854b2",
   "metadata": {},
   "outputs": [
    {
     "data": {
      "text/plain": [
       "array([[44,  0, 43, 92],\n",
       "       [26, 89, 99, 77],\n",
       "       [10,  5,  2, 29],\n",
       "       [14, 57, 83, 16]])"
      ]
     },
     "execution_count": 13,
     "metadata": {},
     "output_type": "execute_result"
    }
   ],
   "source": [
    "arr1"
   ]
  },
  {
   "cell_type": "code",
   "execution_count": 15,
   "id": "abd8db8a",
   "metadata": {},
   "outputs": [
    {
     "data": {
      "text/plain": [
       "array([89,  2, 92, 14])"
      ]
     },
     "execution_count": 15,
     "metadata": {},
     "output_type": "execute_result"
    }
   ],
   "source": [
    "arr1[[1,2,0,3],[1,2,3,0]]"
   ]
  },
  {
   "cell_type": "code",
   "execution_count": 18,
   "id": "7dfad3fc",
   "metadata": {},
   "outputs": [
    {
     "data": {
      "text/plain": [
       "array([44, 14, 16, 92])"
      ]
     },
     "execution_count": 18,
     "metadata": {},
     "output_type": "execute_result"
    }
   ],
   "source": [
    "arr1[[0,3,3,0],[0,0,3,3]]   # corner 4 anticlockwise"
   ]
  },
  {
   "cell_type": "markdown",
   "id": "13a90931",
   "metadata": {},
   "source": [
    "#### iterator"
   ]
  },
  {
   "cell_type": "code",
   "execution_count": 21,
   "id": "eb05d267",
   "metadata": {},
   "outputs": [
    {
     "data": {
      "text/plain": [
       "array([[44,  0, 43, 92],\n",
       "       [26, 89, 99, 77],\n",
       "       [10,  5,  2, 29],\n",
       "       [14, 57, 83, 16]])"
      ]
     },
     "execution_count": 21,
     "metadata": {},
     "output_type": "execute_result"
    }
   ],
   "source": [
    "arr1"
   ]
  },
  {
   "cell_type": "code",
   "execution_count": 23,
   "id": "05b72c2e",
   "metadata": {},
   "outputs": [
    {
     "name": "stdout",
     "output_type": "stream",
     "text": [
      "44\n",
      "0\n",
      "43\n",
      "92\n",
      "26\n",
      "89\n",
      "99\n",
      "77\n",
      "10\n",
      "5\n",
      "2\n",
      "29\n",
      "14\n",
      "57\n",
      "83\n",
      "16\n"
     ]
    }
   ],
   "source": [
    "for i in np.nditer(arr1):\n",
    "    print(i)"
   ]
  },
  {
   "cell_type": "code",
   "execution_count": 27,
   "id": "db69e6ab",
   "metadata": {},
   "outputs": [
    {
     "name": "stdout",
     "output_type": "stream",
     "text": [
      "44\n",
      "0\n",
      "92\n",
      "26\n",
      "10\n",
      "2\n",
      "14\n",
      "16\n"
     ]
    }
   ],
   "source": [
    "for i in np.nditer(arr1):\n",
    "    if i%2==0:\n",
    "        print(i)"
   ]
  },
  {
   "cell_type": "code",
   "execution_count": null,
   "id": "d0755fb0",
   "metadata": {},
   "outputs": [],
   "source": []
  }
 ],
 "metadata": {
  "kernelspec": {
   "display_name": "Python 3 (ipykernel)",
   "language": "python",
   "name": "python3"
  },
  "language_info": {
   "codemirror_mode": {
    "name": "ipython",
    "version": 3
   },
   "file_extension": ".py",
   "mimetype": "text/x-python",
   "name": "python",
   "nbconvert_exporter": "python",
   "pygments_lexer": "ipython3",
   "version": "3.11.5"
  }
 },
 "nbformat": 4,
 "nbformat_minor": 5
}
